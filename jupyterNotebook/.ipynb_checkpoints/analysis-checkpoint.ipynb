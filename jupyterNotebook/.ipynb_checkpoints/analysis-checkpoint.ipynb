{
 "cells": [
  {
   "cell_type": "code",
   "execution_count": null,
   "metadata": {},
   "outputs": [],
   "source": [
    "# input all the fasta files into assembler per species. make flags to indicate which databases are contributing to outcome. "
   ]
  },
  {
   "cell_type": "markdown",
   "metadata": {},
   "source": [
    "# Strains that have only Contigs"
   ]
  },
  {
   "cell_type": "code",
   "execution_count": 76,
   "metadata": {
    "scrolled": true
   },
   "outputs": [
    {
     "name": "stdout",
     "output_type": "stream",
     "text": [
      "strain_with_contigs_only 211\n",
      "['/u/home/a/akarlsbe/scratch/fungi/ENSEMBLE/Aspergillus_nomius_nrrl_13137.ASM120477v1.dna.toplevel.fa\\n', '/u/home/a/akarlsbe/scratch/fungi/1K/Aspnom13137_1_AssemblyScaffolds_Repeatmasked.fasta\\n'] ['ENSEMBLE', '1K'] [1118, 1118] [32863, 32786]\n"
     ]
    }
   ],
   "source": [
    "import numpy as np\n",
    "import matplotlib.pyplot as plt\n",
    "from matplotlib.pyplot import figure\n",
    "from matplotlib import rc\n",
    "import pandas as pd\n",
    "import sqlite3\n",
    "\n",
    "cnx = sqlite3.connect(r'/Users/aaronkarlsberg/Desktop/Djoin/data/refSeqFungiStats.db')\n",
    "strain_with_contigs_only = pd.read_sql_query(\"SELECT STRAINTAXID FROM speciesdb where chromosome_count = 0 AND contig_count > 0 AND STRAINTAXID !=0 Group by STRAINTAXID HAVING COUNT(DISTINCT DBNAME) > 1\", cnx)\n",
    "\n",
    "print(\"strain_with_contigs_only\", strain_with_contigs_only.size)\n",
    "\n",
    "\n",
    "# canu requires approximate genome size as input: for now we take average contig length and multiply by the total number of contigs within a single fasta file. The mazimum between fasta files for a species will serve as the approximate genome length.\n",
    "def generate_canu_command_file_for_strain_contigs(filepaths, contributing_databases, approx_genome_length, strainTaxid):\n",
    "    approx_genome_length = str(approx_genome_length)\n",
    "    files = []\n",
    "    for file in filepaths:\n",
    "        files.append(file.strip())\n",
    "    files = ' '.join(files)\n",
    "    distinct_databases = set(contributing_databases)\n",
    "    distinct_database_count = str(len(distinct_databases))\n",
    "    contributing_databases = '_'.join(contributing_databases)\n",
    "    shell_script= open(\"/Users/aaronkarlsberg/Desktop/Djoin/canu_shell_scripts/contig_only_strain_assembly_canu_shell_command_script.sh\",\"a+\")\n",
    "    canu_command = \"/u/home/a/akarlsbe/scratch/canu-1.8/*/bin/canu -d /u/home/a/akarlsbe/scratch/strain_contig_only_assemblies/\"+ strainTaxid +\" -p \"+distinct_database_count+\"_contributing_databases_\"+ contributing_databases +\" genomeSize=\"+ approx_genome_length +\" -nanopore-raw \" + files +\" useGrid=false stopOnLowCoverage=2\\n\"\n",
    "    shell_script.write(canu_command)\n",
    "    shell_script.close()\n",
    "    return\n",
    "\n",
    "for index, row in strain_with_contigs_only.iterrows():\n",
    "    strain_tax_id = str(row[\"STRAINTAXID\"])\n",
    "    strain_filepaths_query = pd.read_sql_query(\"SELECT FILEPATH, DBNAME, contig_count, avg_length_contig FROM speciesdb where STRAINTAXID = \"+ strain_tax_id +\" AND chromosome_count = 0 AND contig_count > 0 \", cnx)\n",
    "    strain_filepaths_list = []\n",
    "    strain_databases = []\n",
    "    contig_counts = []\n",
    "    avg_contig_lengths = []\n",
    "    for indexL, rowL in strain_filepaths_query.iterrows():\n",
    "        strain_filepaths_list.append(rowL[\"FILEPATH\"])\n",
    "        strain_databases.append(rowL[\"DBNAME\"])\n",
    "        contig_counts.append(rowL[\"contig_count\"])\n",
    "        avg_contig_lengths.append(rowL[\"avg_length_contig\"])\n",
    "        genome_lengths = []\n",
    "        for i in range(0,len(contig_counts)):\n",
    "            genome_lengths.append(contig_counts[i] * avg_contig_lengths[i])\n",
    "        approx_genome_length = max(genome_lengths)\n",
    "    generate_canu_command_file_for_strain_contigs(strain_filepaths_list, strain_databases, approx_genome_length, strain_tax_id)  \n",
    "    \n",
    "print(strain_filepaths_list, strain_databases, contig_counts,avg_contig_lengths)\n"
   ]
  },
  {
   "cell_type": "markdown",
   "metadata": {},
   "source": [
    "# Strains that have only Chromosomes"
   ]
  },
  {
   "cell_type": "code",
   "execution_count": null,
   "metadata": {},
   "outputs": [],
   "source": [
    "import numpy as np\n",
    "import matplotlib.pyplot as plt\n",
    "from matplotlib.pyplot import figure\n",
    "from matplotlib import rc\n",
    "import pandas as pd\n",
    "import sqlite3\n",
    "\n",
    "cnx = sqlite3.connect(r'Djoin/data/refSeqFungiStats.db')\n",
    "strain_with_chromosomes_only =pd.read_sql_query(\"SELECT STRAINTAXID FROM speciesdb where chromosome_count = 0 AND contig_count > 0 AND STRAINTAXID !=0 Group by STRAINTAXID HAVING COUNT(DISTINCT DBNAME) > 1\", cnx)\n",
    "\n"
   ]
  },
  {
   "cell_type": "markdown",
   "metadata": {},
   "source": [
    "# Strains that have both Chromosomes and Contigs within the same fasta file: \"Mixed Sequence Files\""
   ]
  },
  {
   "cell_type": "code",
   "execution_count": 21,
   "metadata": {},
   "outputs": [],
   "source": [
    "import numpy as np\n",
    "import matplotlib.pyplot as plt\n",
    "from matplotlib.pyplot import figure\n",
    "from matplotlib import rc\n",
    "import pandas as pd\n",
    "import sqlite3\n",
    "\n",
    "cnx = sqlite3.connect(r'Djoin/data/refSeqFungiStats.db')\n",
    "chrom_and_contig_mixed =pd.read_sql_query(\"SELECT * FROM speciesdb where chromosome_count > 0 AND contig_count > 0 AND STRAINTAXID !=0 Group by STRAINTAXID HAVING COUNT(DISTINCT DBNAME) > 1\", cnx)\n",
    "\n"
   ]
  },
  {
   "cell_type": "markdown",
   "metadata": {},
   "source": [
    "# Strains that have only chromosomes and only contigs in seperate databases"
   ]
  },
  {
   "cell_type": "code",
   "execution_count": 36,
   "metadata": {},
   "outputs": [],
   "source": [
    "import numpy as np\n",
    "import matplotlib.pyplot as plt\n",
    "from matplotlib.pyplot import figure\n",
    "from matplotlib import rc\n",
    "import pandas as pd\n",
    "import sqlite3\n",
    "\n",
    "cnx = sqlite3.connect(r'Djoin/data/refSeqFungiStats.db')\n",
    "\n",
    "\n",
    "strain_with_contigs_in_onedb_chrom_in_other = []\n",
    "\n",
    "strain_with_contigs_only = pd.read_sql_query(\"SELECT * FROM SPECIESDB where chromosome_count > 0 AND contig_count = 0 AND STRAINTAXID !=0 Group by STRAINTAXID HAVING COUNT(DISTINCT DBNAME) > 1\", cnx)\n",
    "\n",
    "strain_with_chromosomes_only = pd.read_sql_query(\"SELECT * FROM SPECIESDB where chromosome_count = 0 AND contig_count > 0 AND STRAINTAXID !=0 Group by STRAINTAXID HAVING COUNT(DISTINCT DBNAME) > 1\", cnx)\n",
    "\n",
    "\n",
    "# for indexCont, rowCont in strain_with_contigs_only.iterrows():\n",
    "#     for indexChrom, rowChrom in strain_with_chromosomes_only.iterrows():\n",
    "#         if rowCont[\"STRAINTAXID\"] == rowChrom[\"STRAINTAXID\"]:\n",
    "#             strain_with_contigs_in_onedb_chrom_in_other.append(rowCont[\"STRAINTAXID\"])\n",
    "\n",
    "# # Eliminate dublicates\n",
    "# strain_with_contigs_in_onedb_chrom_in_other = list(dict.fromkeys(strain_with_contigs_in_onedb_chrom_in_other))\n",
    "\n",
    "# print(strain_with_contigs_in_onedb_chrom_in_other)\n",
    "\n",
    "# output of the code that is commented out above. This is to avoid running nested for loop more than once. \n",
    "strain_with_contigs_in_onedb_chrom_in_other = [227321, 237561, 1071382, 1230383, 871575, 665079, 284813, 425011]\n",
    "\n",
    "\n",
    "\n",
    "for straintaxid in strain_with_contigs_in_onedb_chrom_in_other:\n",
    "    pd.read_sql_query(\"select * from SPECIESDB where straintaxid = \"+ str(straintaxid), cnx)\n",
    "\n",
    "\n",
    "\n",
    "\n",
    "\n",
    "\n",
    "\n"
   ]
  },
  {
   "cell_type": "markdown",
   "metadata": {},
   "source": [
    "# Species that have only chromosomes and only contigs in seperate databases"
   ]
  },
  {
   "cell_type": "code",
   "execution_count": null,
   "metadata": {},
   "outputs": [],
   "source": [
    "import numpy as np\n",
    "import matplotlib.pyplot as plt\n",
    "from matplotlib.pyplot import figure\n",
    "from matplotlib import rc\n",
    "import pandas as pd\n",
    "import sqlite3\n",
    "\n",
    "cnx = sqlite3.connect(r'Djoin/data/refSeqFungiStats.db')\n",
    "\n",
    "species_with_contigs_in_onedb_chrom_in_other = []\n",
    "\n",
    "species_with_contigs_only = pd.read_sql_query(\"SELECT * FROM speciesdb where chromosome_count > 0 AND contig_count = 0 AND SPECIESTAXID !=0 Group by SPECIESTAXID HAVING COUNT(DISTINCT DBNAME) > 1\", cnx)\n",
    "\n",
    "species_with_chromosomes_only = pd.read_sql_query(\"SELECT * FROM speciesdb where chromosome_count = 0 AND contig_count > 0 AND SPECIESTAXID !=0 Group by SPECIESNTAXID HAVING COUNT(DISTINCT DBNAME) > 1\", cnx)\n",
    "\n",
    "\n",
    "# for indexCont, rowCont in species_with_contigs_only.iterrows():\n",
    "#     for indexChrom, rowChrom in species_with_chromosomes_only.iterrows():\n",
    "#         if rowCont[\"SPECIESTAXID\"] == rowChrom[\"SPECIESTAXID\"]:\n",
    "#             species_with_contigs_in_onedb_chrom_in_other.append(rowCont[\"SPECIESTAXID\"])\n",
    "\n",
    "# # Eliminate dublicates\n",
    "# species_with_contigs_in_onedb_chrom_in_other = list(dict.fromkeys(species_with_contigs_in_onedb_chrom_in_other))\n",
    "\n",
    "# print(species_with_contigs_in_onedb_chrom_in_other)\n",
    "\n",
    "# output of the code that is commented out above. This is to avoid running nested for loop more than once. \n",
    "species_with_contigs_in_onedb_chrom_in_other = [746128, 162425, 40559, 5476, 5478, 37769, 432096, 76777, 1005962, 5076, 4932, 5180, 4950, 27337, 4952, 4956, 6035, 109760, 5346, 5062, 61459, 263815, 101852, 1033840, 563466, 29908, 68825, 40302, 498019, 1664694, 42068, 4754, 398673, 254056, 856822, 1367422, 280754, 80884, 5619, 104669, 1209926, 4909, 5127, 5061, 5480]\n",
    "\n",
    "\n",
    "for speciestaxid in species_with_contigs_in_onedb_chrom_in_other:\n",
    "    pd.read_sql_query(\"select * from speciesdb where speciestaxid = \"+ str(speciestaxid), cnx)\n",
    "\n",
    "\n"
   ]
  },
  {
   "cell_type": "markdown",
   "metadata": {},
   "source": [
    "# Use cases to revisit:"
   ]
  },
  {
   "cell_type": "code",
   "execution_count": null,
   "metadata": {},
   "outputs": [],
   "source": [
    "# 72 instances in which the fungi_stats code did not characterize the sequence types contained in the fasta files. This is evident where chromosome and contig counts are zero.\n",
    "\n",
    "unclassified_sequences = pd.read_sql_query(\"SELECT * FROM speciesdb where chromosome_count = 0 AND contig_count = 0 \", cnx).size\n",
    "\n"
   ]
  },
  {
   "cell_type": "code",
   "execution_count": 48,
   "metadata": {},
   "outputs": [
    {
     "name": "stdout",
     "output_type": "stream",
     "text": [
      "782\n",
      "541\n",
      "330\n",
      "211\n",
      "213\n"
     ]
    }
   ],
   "source": [
    "strain_with_contigs_only1 = pd.read_sql_query(\"SELECT STRAINTAXID FROM speciesdb where chromosome_count = 0 AND contig_count > 0 AND STRAINTAXID !=0\", cnx).size\n",
    "print(strain_with_contigs_only1)\n",
    "\n",
    "strain_with_contigs_only = pd.read_sql_query(\"SELECT STRAINTAXID FROM speciesdb where chromosome_count = 0 AND contig_count > 0 AND STRAINTAXID !=0 Group by STRAINTAXID HAVING COUNT(DISTINCT DBNAME) > 0\", cnx).size\n",
    "print(strain_with_contigs_only)\n",
    "\n",
    "strain_with_contigs_only2 = pd.read_sql_query(\"SELECT STRAINTAXID FROM speciesdb where chromosome_count = 0 AND contig_count > 0 AND STRAINTAXID !=0 Group by STRAINTAXID HAVING COUNT(DISTINCT DBNAME) = 1\", cnx).size\n",
    "print(strain_with_contigs_only2)\n",
    "\n",
    "strain_with_contigs_only4 = pd.read_sql_query(\"SELECT STRAINTAXID FROM speciesdb where chromosome_count = 0 AND contig_count > 0 AND STRAINTAXID !=0 Group by STRAINTAXID HAVING COUNT(DISTINCT DBNAME) > 1\", cnx).size\n",
    "print(strain_with_contigs_only4)\n",
    "\n",
    "\n",
    "strain_with_contigs_only3 = pd.read_sql_query(\"SELECT STRAINTAXID FROM speciesdb where chromosome_count = 0 AND contig_count > 0 AND STRAINTAXID !=0 Group by STRAINTAXID HAVING COUNT(STRAINTAXID) > 1\", cnx).size\n",
    "\n",
    "print(strain_with_contigs_only3)\n"
   ]
  },
  {
   "cell_type": "code",
   "execution_count": 81,
   "metadata": {},
   "outputs": [
    {
     "name": "stdout",
     "output_type": "stream",
     "text": [
      "    STRAINTAXID    DBNAME\n",
      "0         56615  ENSEMBLE\n",
      "1         62688        1K\n",
      "2        227321  ENSEMBLE\n",
      "3        237561  ENSEMBLE\n",
      "4        644223  ENSEMBLE\n",
      "5        665079  ENSEMBLE\n",
      "6        683840        1K\n",
      "7        698492  ENSEMBLE\n",
      "8        701091        1K\n",
      "9        764103  ENSEMBLE\n",
      "10      1016881        1K\n",
      "11      1230383  ENSEMBLE\n"
     ]
    }
   ],
   "source": [
    "strain_with_contigs_only5 = pd.read_sql_query(\"SELECT STRAINTAXID,DBNAME FROM speciesdb where STRAINTAXID !=0 Group by STRAINTAXID, DBNAME HAVING COUNT(*) > 1\", cnx)\n",
    "\n",
    "\n",
    "print(strain_with_contigs_only5)\n",
    "\n",
    "\n",
    "\n"
   ]
  },
  {
   "cell_type": "code",
   "execution_count": null,
   "metadata": {},
   "outputs": [],
   "source": [
    "\n"
   ]
  },
  {
   "cell_type": "code",
   "execution_count": null,
   "metadata": {},
   "outputs": [],
   "source": []
  }
 ],
 "metadata": {
  "kernelspec": {
   "display_name": "Python 3",
   "language": "python",
   "name": "python3"
  },
  "language_info": {
   "codemirror_mode": {
    "name": "ipython",
    "version": 3
   },
   "file_extension": ".py",
   "mimetype": "text/x-python",
   "name": "python",
   "nbconvert_exporter": "python",
   "pygments_lexer": "ipython3",
   "version": "3.6.8"
  }
 },
 "nbformat": 4,
 "nbformat_minor": 2
}
