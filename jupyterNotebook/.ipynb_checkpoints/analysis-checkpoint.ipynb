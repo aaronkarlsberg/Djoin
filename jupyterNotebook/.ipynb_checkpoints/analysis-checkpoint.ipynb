{
 "cells": [
  {
   "cell_type": "code",
   "execution_count": 1,
   "metadata": {},
   "outputs": [],
   "source": [
    "# input all the fasta files into assembler per species. make flags to indicate which databases are contributing to outcome. "
   ]
  },
  {
   "cell_type": "markdown",
   "metadata": {},
   "source": [
    "# Strains that have only Contigs"
   ]
  },
  {
   "cell_type": "code",
   "execution_count": 7,
   "metadata": {
    "scrolled": true
   },
   "outputs": [
    {
     "name": "stdout",
     "output_type": "stream",
     "text": [
      "strain_with_contigs_only 211\n"
     ]
    }
   ],
   "source": [
    "import numpy as np\n",
    "import matplotlib.pyplot as plt\n",
    "from matplotlib.pyplot import figure\n",
    "from matplotlib import rc\n",
    "import pandas as pd\n",
    "import sqlite3\n",
    "\n",
    "cnx = sqlite3.connect(r'/Users/aaronkarlsberg/Desktop/Djoin/data/refSeqFungiStats.db')\n",
    "strain_with_contigs_only = pd.read_sql_query(\"SELECT STRAINTAXID FROM speciesdb where chromosome_count = 0 AND contig_count > 0 AND STRAINTAXID !=0 Group by STRAINTAXID HAVING COUNT(DISTINCT DBNAME) > 1\", cnx)\n",
    "\n",
    "print(\"strain_with_contigs_only\", strain_with_contigs_only.size)\n",
    "\n",
    "\n",
    "# canu requires approximate genome size as input: for now we take average contig length and multiply by the total number of contigs within a single fasta file. The mazimum between fasta files for a species will serve as the approximate genome length.\n",
    "def generate_canu_command_file_for_strain_contigs(filepaths, contributing_databases, approx_genome_length, strainTaxid):\n",
    "    approx_genome_length = str(approx_genome_length)\n",
    "    files = []\n",
    "    for file in filepaths:\n",
    "        files.append(file.strip())\n",
    "    files = ' -i '.join(files)\n",
    "#     print(files)\n",
    "    distinct_databases = set(contributing_databases)\n",
    "    distinct_database_count = str(len(distinct_databases))\n",
    "    contributing_databases = '_'.join(contributing_databases)\n",
    "    new_file_name = strainTaxid +\"_\" + distinct_database_count + \"_contributing_databases_\" + contributing_databases\n",
    "    shell_script= open(\"/Users/aaronkarlsberg/Desktop/Djoin/wtdbg_shell_scripts/contig_only_strain_assembly_wtdbg_shell_command_script.sh\",\"a+\")\n",
    "    make_strain_directory = \"mkdir /u/home/a/akarlsbe/scratch/strain_contig_only_assemblies/\"+ strainTaxid +\" && cd /u/home/a/akarlsbe/scratch/strain_contig_only_assemblies/\" + strainTaxid +\"\\n\"\n",
    "    generate_assembly_command_wtdbg2 = \"/u/home/a/akarlsbe/wtdbg2/wtdbg2 -x rs -g \" + approx_genome_length + \" -i \"+ files + \" -t 16 -fo \" + new_file_name + \"\\n\"\n",
    "    generate_consensus_command_wtpoa = \"/u/home/a/akarlsbe/wtdbg2/wtpoa-cns -t 16 -i \" + new_file_name + \".ctg.lay.gz -fo \"+ new_file_name +\".raw.fa\\n\"\n",
    "    shell_script.write(make_strain_directory)\n",
    "    shell_script.write(generate_assembly_command_wtdbg2)\n",
    "    shell_script.write(generate_consensus_command_wtpoa)\n",
    "    shell_script.close()\n",
    "    \n",
    "    strain_contig_csv = open(\"/Users/aaronkarlsberg/Desktop/Djoin/code/strain_contig.csv\", \"a+\")\n",
    "    tax_id_and_file_path = strainTaxid + \",/u/home/a/akarlsbe/scratch/strain_contig_only_assemblies/\" + strainTaxid + \"/\"+ new_file_name + \".raw.fa\\n\"\n",
    "    strain_contig_csv.write(tax_id_and_file_path)\n",
    "    strain_contig_csv.close()\n",
    "    return\n",
    "\n",
    "for index, row in strain_with_contigs_only.iterrows():\n",
    "    strain_tax_id = str(row[\"STRAINTAXID\"])\n",
    "    strain_filepaths_query = pd.read_sql_query(\"SELECT FILEPATH, DBNAME, contig_count, avg_length_contig FROM speciesdb where STRAINTAXID = \"+ strain_tax_id +\" AND chromosome_count = 0 AND contig_count > 0 \", cnx)\n",
    "    strain_filepaths_list = []\n",
    "    strain_databases = []\n",
    "    contig_counts = []\n",
    "    avg_contig_lengths = []\n",
    "    for indexL, rowL in strain_filepaths_query.iterrows():\n",
    "        strain_filepaths_list.append(rowL[\"FILEPATH\"])\n",
    "        strain_databases.append(rowL[\"DBNAME\"])\n",
    "        contig_counts.append(rowL[\"contig_count\"])\n",
    "        avg_contig_lengths.append(rowL[\"avg_length_contig\"])\n",
    "        genome_lengths = []\n",
    "        for i in range(0,len(contig_counts)):\n",
    "            genome_lengths.append(contig_counts[i] * avg_contig_lengths[i])\n",
    "        approx_genome_length = max(genome_lengths)\n",
    "    generate_canu_command_file_for_strain_contigs(strain_filepaths_list, strain_databases, approx_genome_length, strain_tax_id)  \n",
    "    \n",
    "# print(strain_filepaths_list, strain_databases, contig_counts,avg_contig_lengths)\n",
    "\n",
    "#    generate_canu_command = \"/u/home/a/akarlsbe/scratch/canu-1.8/*/bin/canu -d /u/home/a/akarlsbe/scratch/strain_contig_only_assemblies/\"+ strainTaxid +\"_\"+distinct_database_count+\"_contributing_databases_\"+ contributing_databases +\" genomeSize=\"+ approx_genome_length +\" -nanopore-raw \" + files +\" useGrid=false stopOnLowCoverage=2\\n\""
   ]
  },
  {
   "cell_type": "markdown",
   "metadata": {},
   "source": [
    "# DATA ANALYSIS FOR CONSENSUS CONTIGS OF STRAINS"
   ]
  },
  {
   "cell_type": "code",
   "execution_count": null,
   "metadata": {},
   "outputs": [],
   "source": [
    "import numpy as np\n",
    "import matplotlib.pyplot as plt\n",
    "from matplotlib.pyplot import figure\n",
    "from matplotlib import rc\n",
    "import pandas as pd\n",
    "import sqlite3\n",
    "\n",
    "cnx = sqlite3.connect(r'/Users/aaronkarlsberg/Desktop/Djoin/data/refSeqFungiStats.db')\n",
    "strains_with_contigs_only = pd.read_sql_query(\"SELECT STRAINTAXID FROM speciesdb where chromosome_count = 0 AND contig_count > 0 AND STRAINTAXID !=0 Group by STRAINTAXID HAVING COUNT(DISTINCT DBNAME) > 1\", cnx)\n",
    "\n",
    "for index, row in strains_with_contigs_only.iterrows():\n",
    "    strain_tax_id = str(row[\"STRAINTAXID\"])\n",
    "    \n",
    "\n",
    "    "
   ]
  },
  {
   "cell_type": "code",
   "execution_count": 23,
   "metadata": {},
   "outputs": [
    {
     "name": "stdout",
     "output_type": "stream",
     "text": [
      "     DBNAME  contig_count  avg_length_contig\n",
      "0  ENSEMBLE          3185              37775\n",
      "1        1K           392             229357\n",
      "2   FUNGIDB           392             229896\n"
     ]
    }
   ],
   "source": [
    "# filepath= '/u/home/a/akarlsbe/scratch/fungi/ENSEMBLE/Puccinia_graminisug99.v1.dna.toplevel.fa'\n",
    "\n",
    "# contig_count = pd.read_sql_query(\"SELECT DBNAME, contig_count, avg_length_contig FROM speciesdb where straintaxid = 56615 and contig_count>0 and chromosome_count=0 \", cnx)\n",
    "\n",
    "# print(contig_count)\n"
   ]
  },
  {
   "cell_type": "markdown",
   "metadata": {},
   "source": [
    "# Strains that have only Chromosomes"
   ]
  },
  {
   "cell_type": "code",
   "execution_count": 1,
   "metadata": {},
   "outputs": [],
   "source": [
    "import numpy as np\n",
    "import matplotlib.pyplot as plt\n",
    "from matplotlib.pyplot import figure\n",
    "from matplotlib import rc\n",
    "import pandas as pd\n",
    "import sqlite3\n",
    "\n",
    "cnx = sqlite3.connect(r'/Users/aaronkarlsberg/Desktop/Djoin/data/refSeqFungiStats.db')\n",
    "strain_with_chromosomes_only = pd.read_sql_query(\"SELECT STRAINTAXID FROM speciesdb where chromosome_count = 0 AND contig_count > 0 AND STRAINTAXID !=0 Group by STRAINTAXID HAVING COUNT(DISTINCT DBNAME) > 1\", cnx)"
   ]
  },
  {
   "cell_type": "markdown",
   "metadata": {},
   "source": [
    "# Strains that have both Chromosomes and Contigs within the same fasta file: \"Mixed Sequence Files\""
   ]
  },
  {
   "cell_type": "code",
   "execution_count": 21,
   "metadata": {},
   "outputs": [],
   "source": [
    "import numpy as np\n",
    "import matplotlib.pyplot as plt\n",
    "from matplotlib.pyplot import figure\n",
    "from matplotlib import rc\n",
    "import pandas as pd\n",
    "import sqlite3\n",
    "\n",
    "cnx = sqlite3.connect(r'/Users/aaronkarlsberg/Desktop/Djoin/data/refSeqFungiStats.db')\n",
    "chrom_and_contig_mixed =pd.read_sql_query(\"SELECT * FROM speciesdb where chromosome_count > 0 AND contig_count > 0 AND STRAINTAXID !=0 Group by STRAINTAXID HAVING COUNT(DISTINCT DBNAME) > 1\", cnx)\n",
    "\n"
   ]
  },
  {
   "cell_type": "markdown",
   "metadata": {},
   "source": [
    "# Strains that have only chromosomes and only contigs in seperate databases"
   ]
  },
  {
   "cell_type": "code",
   "execution_count": 36,
   "metadata": {},
   "outputs": [],
   "source": [
    "import numpy as np\n",
    "import matplotlib.pyplot as plt\n",
    "from matplotlib.pyplot import figure\n",
    "from matplotlib import rc\n",
    "import pandas as pd\n",
    "import sqlite3\n",
    "\n",
    "cnx = sqlite3.connect(r'/Users/aaronkarlsberg/Desktop/Djoin/data/refSeqFungiStats.db')\n",
    "\n",
    "\n",
    "strain_with_contigs_in_onedb_chrom_in_other = []\n",
    "\n",
    "strain_with_contigs_only = pd.read_sql_query(\"SELECT * FROM SPECIESDB where chromosome_count > 0 AND contig_count = 0 AND STRAINTAXID !=0 Group by STRAINTAXID HAVING COUNT(DISTINCT DBNAME) > 1\", cnx)\n",
    "\n",
    "strain_with_chromosomes_only = pd.read_sql_query(\"SELECT * FROM SPECIESDB where chromosome_count = 0 AND contig_count > 0 AND STRAINTAXID !=0 Group by STRAINTAXID HAVING COUNT(DISTINCT DBNAME) > 1\", cnx)\n",
    "\n",
    "\n",
    "# for indexCont, rowCont in strain_with_contigs_only.iterrows():\n",
    "#     for indexChrom, rowChrom in strain_with_chromosomes_only.iterrows():\n",
    "#         if rowCont[\"STRAINTAXID\"] == rowChrom[\"STRAINTAXID\"]:\n",
    "#             strain_with_contigs_in_onedb_chrom_in_other.append(rowCont[\"STRAINTAXID\"])\n",
    "\n",
    "# # Eliminate dublicates\n",
    "# strain_with_contigs_in_onedb_chrom_in_other = list(dict.fromkeys(strain_with_contigs_in_onedb_chrom_in_other))\n",
    "\n",
    "# print(strain_with_contigs_in_onedb_chrom_in_other)\n",
    "\n",
    "# output of the code that is commented out above. This is to avoid running nested for loop more than once. \n",
    "strain_with_contigs_in_onedb_chrom_in_other = [227321, 237561, 1071382, 1230383, 871575, 665079, 284813, 425011]\n",
    "\n",
    "\n",
    "\n",
    "for straintaxid in strain_with_contigs_in_onedb_chrom_in_other:\n",
    "    pd.read_sql_query(\"select * from SPECIESDB where straintaxid = \"+ str(straintaxid), cnx)\n",
    "\n",
    "\n",
    "\n",
    "\n",
    "\n",
    "\n",
    "\n"
   ]
  },
  {
   "cell_type": "markdown",
   "metadata": {},
   "source": [
    "# Species that have only chromosomes and only contigs in seperate databases"
   ]
  },
  {
   "cell_type": "code",
   "execution_count": 7,
   "metadata": {},
   "outputs": [
    {
     "ename": "DatabaseError",
     "evalue": "Execution failed on sql 'SELECT * FROM speciesdb where chromosome_count = 0 AND contig_count > 0 AND SPECIESTAXID !=0 Group by SPECIESNTAXID HAVING COUNT(DISTINCT DBNAME) > 1': no such column: SPECIESNTAXID",
     "output_type": "error",
     "traceback": [
      "\u001b[0;31m---------------------------------------------------------------------------\u001b[0m",
      "\u001b[0;31mOperationalError\u001b[0m                          Traceback (most recent call last)",
      "\u001b[0;32m/anaconda3/lib/python3.6/site-packages/pandas/io/sql.py\u001b[0m in \u001b[0;36mexecute\u001b[0;34m(self, *args, **kwargs)\u001b[0m\n\u001b[1;32m   1430\u001b[0m             \u001b[0;32melse\u001b[0m\u001b[0;34m:\u001b[0m\u001b[0;34m\u001b[0m\u001b[0;34m\u001b[0m\u001b[0m\n\u001b[0;32m-> 1431\u001b[0;31m                 \u001b[0mcur\u001b[0m\u001b[0;34m.\u001b[0m\u001b[0mexecute\u001b[0m\u001b[0;34m(\u001b[0m\u001b[0;34m*\u001b[0m\u001b[0margs\u001b[0m\u001b[0;34m)\u001b[0m\u001b[0;34m\u001b[0m\u001b[0;34m\u001b[0m\u001b[0m\n\u001b[0m\u001b[1;32m   1432\u001b[0m             \u001b[0;32mreturn\u001b[0m \u001b[0mcur\u001b[0m\u001b[0;34m\u001b[0m\u001b[0;34m\u001b[0m\u001b[0m\n",
      "\u001b[0;31mOperationalError\u001b[0m: no such column: SPECIESNTAXID",
      "\nDuring handling of the above exception, another exception occurred:\n",
      "\u001b[0;31mDatabaseError\u001b[0m                             Traceback (most recent call last)",
      "\u001b[0;32m<ipython-input-7-f46a40be4adb>\u001b[0m in \u001b[0;36m<module>\u001b[0;34m\u001b[0m\n\u001b[1;32m     12\u001b[0m \u001b[0mspecies_with_contigs_only\u001b[0m \u001b[0;34m=\u001b[0m \u001b[0mpd\u001b[0m\u001b[0;34m.\u001b[0m\u001b[0mread_sql_query\u001b[0m\u001b[0;34m(\u001b[0m\u001b[0;34m\"SELECT * FROM speciesdb where chromosome_count > 0 AND contig_count = 0 AND SPECIESTAXID !=0 Group by SPECIESTAXID HAVING COUNT(DISTINCT DBNAME) > 1\"\u001b[0m\u001b[0;34m,\u001b[0m \u001b[0mcnx\u001b[0m\u001b[0;34m)\u001b[0m\u001b[0;34m\u001b[0m\u001b[0;34m\u001b[0m\u001b[0m\n\u001b[1;32m     13\u001b[0m \u001b[0;34m\u001b[0m\u001b[0m\n\u001b[0;32m---> 14\u001b[0;31m \u001b[0mspecies_with_chromosomes_only\u001b[0m \u001b[0;34m=\u001b[0m \u001b[0mpd\u001b[0m\u001b[0;34m.\u001b[0m\u001b[0mread_sql_query\u001b[0m\u001b[0;34m(\u001b[0m\u001b[0;34m\"SELECT * FROM speciesdb where chromosome_count = 0 AND contig_count > 0 AND SPECIESTAXID !=0 Group by SPECIESNTAXID HAVING COUNT(DISTINCT DBNAME) > 1\"\u001b[0m\u001b[0;34m,\u001b[0m \u001b[0mcnx\u001b[0m\u001b[0;34m)\u001b[0m\u001b[0;34m\u001b[0m\u001b[0;34m\u001b[0m\u001b[0m\n\u001b[0m\u001b[1;32m     15\u001b[0m \u001b[0;34m\u001b[0m\u001b[0m\n\u001b[1;32m     16\u001b[0m \u001b[0;34m\u001b[0m\u001b[0m\n",
      "\u001b[0;32m/anaconda3/lib/python3.6/site-packages/pandas/io/sql.py\u001b[0m in \u001b[0;36mread_sql_query\u001b[0;34m(sql, con, index_col, coerce_float, params, parse_dates, chunksize)\u001b[0m\n\u001b[1;32m    312\u001b[0m     return pandas_sql.read_query(\n\u001b[1;32m    313\u001b[0m         \u001b[0msql\u001b[0m\u001b[0;34m,\u001b[0m \u001b[0mindex_col\u001b[0m\u001b[0;34m=\u001b[0m\u001b[0mindex_col\u001b[0m\u001b[0;34m,\u001b[0m \u001b[0mparams\u001b[0m\u001b[0;34m=\u001b[0m\u001b[0mparams\u001b[0m\u001b[0;34m,\u001b[0m \u001b[0mcoerce_float\u001b[0m\u001b[0;34m=\u001b[0m\u001b[0mcoerce_float\u001b[0m\u001b[0;34m,\u001b[0m\u001b[0;34m\u001b[0m\u001b[0;34m\u001b[0m\u001b[0m\n\u001b[0;32m--> 314\u001b[0;31m         parse_dates=parse_dates, chunksize=chunksize)\n\u001b[0m\u001b[1;32m    315\u001b[0m \u001b[0;34m\u001b[0m\u001b[0m\n\u001b[1;32m    316\u001b[0m \u001b[0;34m\u001b[0m\u001b[0m\n",
      "\u001b[0;32m/anaconda3/lib/python3.6/site-packages/pandas/io/sql.py\u001b[0m in \u001b[0;36mread_query\u001b[0;34m(self, sql, index_col, coerce_float, params, parse_dates, chunksize)\u001b[0m\n\u001b[1;32m   1466\u001b[0m \u001b[0;34m\u001b[0m\u001b[0m\n\u001b[1;32m   1467\u001b[0m         \u001b[0margs\u001b[0m \u001b[0;34m=\u001b[0m \u001b[0m_convert_params\u001b[0m\u001b[0;34m(\u001b[0m\u001b[0msql\u001b[0m\u001b[0;34m,\u001b[0m \u001b[0mparams\u001b[0m\u001b[0;34m)\u001b[0m\u001b[0;34m\u001b[0m\u001b[0;34m\u001b[0m\u001b[0m\n\u001b[0;32m-> 1468\u001b[0;31m         \u001b[0mcursor\u001b[0m \u001b[0;34m=\u001b[0m \u001b[0mself\u001b[0m\u001b[0;34m.\u001b[0m\u001b[0mexecute\u001b[0m\u001b[0;34m(\u001b[0m\u001b[0;34m*\u001b[0m\u001b[0margs\u001b[0m\u001b[0;34m)\u001b[0m\u001b[0;34m\u001b[0m\u001b[0;34m\u001b[0m\u001b[0m\n\u001b[0m\u001b[1;32m   1469\u001b[0m         \u001b[0mcolumns\u001b[0m \u001b[0;34m=\u001b[0m \u001b[0;34m[\u001b[0m\u001b[0mcol_desc\u001b[0m\u001b[0;34m[\u001b[0m\u001b[0;36m0\u001b[0m\u001b[0;34m]\u001b[0m \u001b[0;32mfor\u001b[0m \u001b[0mcol_desc\u001b[0m \u001b[0;32min\u001b[0m \u001b[0mcursor\u001b[0m\u001b[0;34m.\u001b[0m\u001b[0mdescription\u001b[0m\u001b[0;34m]\u001b[0m\u001b[0;34m\u001b[0m\u001b[0;34m\u001b[0m\u001b[0m\n\u001b[1;32m   1470\u001b[0m \u001b[0;34m\u001b[0m\u001b[0m\n",
      "\u001b[0;32m/anaconda3/lib/python3.6/site-packages/pandas/io/sql.py\u001b[0m in \u001b[0;36mexecute\u001b[0;34m(self, *args, **kwargs)\u001b[0m\n\u001b[1;32m   1443\u001b[0m                 \"Execution failed on sql '{sql}': {exc}\".format(\n\u001b[1;32m   1444\u001b[0m                     sql=args[0], exc=exc))\n\u001b[0;32m-> 1445\u001b[0;31m             \u001b[0mraise_with_traceback\u001b[0m\u001b[0;34m(\u001b[0m\u001b[0mex\u001b[0m\u001b[0;34m)\u001b[0m\u001b[0;34m\u001b[0m\u001b[0;34m\u001b[0m\u001b[0m\n\u001b[0m\u001b[1;32m   1446\u001b[0m \u001b[0;34m\u001b[0m\u001b[0m\n\u001b[1;32m   1447\u001b[0m     \u001b[0;34m@\u001b[0m\u001b[0mstaticmethod\u001b[0m\u001b[0;34m\u001b[0m\u001b[0;34m\u001b[0m\u001b[0m\n",
      "\u001b[0;32m/anaconda3/lib/python3.6/site-packages/pandas/compat/__init__.py\u001b[0m in \u001b[0;36mraise_with_traceback\u001b[0;34m(exc, traceback)\u001b[0m\n\u001b[1;32m    418\u001b[0m         \u001b[0;32mif\u001b[0m \u001b[0mtraceback\u001b[0m \u001b[0;34m==\u001b[0m \u001b[0mEllipsis\u001b[0m\u001b[0;34m:\u001b[0m\u001b[0;34m\u001b[0m\u001b[0;34m\u001b[0m\u001b[0m\n\u001b[1;32m    419\u001b[0m             \u001b[0m_\u001b[0m\u001b[0;34m,\u001b[0m \u001b[0m_\u001b[0m\u001b[0;34m,\u001b[0m \u001b[0mtraceback\u001b[0m \u001b[0;34m=\u001b[0m \u001b[0msys\u001b[0m\u001b[0;34m.\u001b[0m\u001b[0mexc_info\u001b[0m\u001b[0;34m(\u001b[0m\u001b[0;34m)\u001b[0m\u001b[0;34m\u001b[0m\u001b[0;34m\u001b[0m\u001b[0m\n\u001b[0;32m--> 420\u001b[0;31m         \u001b[0;32mraise\u001b[0m \u001b[0mexc\u001b[0m\u001b[0;34m.\u001b[0m\u001b[0mwith_traceback\u001b[0m\u001b[0;34m(\u001b[0m\u001b[0mtraceback\u001b[0m\u001b[0;34m)\u001b[0m\u001b[0;34m\u001b[0m\u001b[0;34m\u001b[0m\u001b[0m\n\u001b[0m\u001b[1;32m    421\u001b[0m \u001b[0;32melse\u001b[0m\u001b[0;34m:\u001b[0m\u001b[0;34m\u001b[0m\u001b[0;34m\u001b[0m\u001b[0m\n\u001b[1;32m    422\u001b[0m     \u001b[0;31m# this version of raise is a syntax error in Python 3\u001b[0m\u001b[0;34m\u001b[0m\u001b[0;34m\u001b[0m\u001b[0;34m\u001b[0m\u001b[0m\n",
      "\u001b[0;32m/anaconda3/lib/python3.6/site-packages/pandas/io/sql.py\u001b[0m in \u001b[0;36mexecute\u001b[0;34m(self, *args, **kwargs)\u001b[0m\n\u001b[1;32m   1429\u001b[0m                 \u001b[0mcur\u001b[0m\u001b[0;34m.\u001b[0m\u001b[0mexecute\u001b[0m\u001b[0;34m(\u001b[0m\u001b[0;34m*\u001b[0m\u001b[0margs\u001b[0m\u001b[0;34m,\u001b[0m \u001b[0;34m**\u001b[0m\u001b[0mkwargs\u001b[0m\u001b[0;34m)\u001b[0m\u001b[0;34m\u001b[0m\u001b[0;34m\u001b[0m\u001b[0m\n\u001b[1;32m   1430\u001b[0m             \u001b[0;32melse\u001b[0m\u001b[0;34m:\u001b[0m\u001b[0;34m\u001b[0m\u001b[0;34m\u001b[0m\u001b[0m\n\u001b[0;32m-> 1431\u001b[0;31m                 \u001b[0mcur\u001b[0m\u001b[0;34m.\u001b[0m\u001b[0mexecute\u001b[0m\u001b[0;34m(\u001b[0m\u001b[0;34m*\u001b[0m\u001b[0margs\u001b[0m\u001b[0;34m)\u001b[0m\u001b[0;34m\u001b[0m\u001b[0;34m\u001b[0m\u001b[0m\n\u001b[0m\u001b[1;32m   1432\u001b[0m             \u001b[0;32mreturn\u001b[0m \u001b[0mcur\u001b[0m\u001b[0;34m\u001b[0m\u001b[0;34m\u001b[0m\u001b[0m\n\u001b[1;32m   1433\u001b[0m         \u001b[0;32mexcept\u001b[0m \u001b[0mException\u001b[0m \u001b[0;32mas\u001b[0m \u001b[0mexc\u001b[0m\u001b[0;34m:\u001b[0m\u001b[0;34m\u001b[0m\u001b[0;34m\u001b[0m\u001b[0m\n",
      "\u001b[0;31mDatabaseError\u001b[0m: Execution failed on sql 'SELECT * FROM speciesdb where chromosome_count = 0 AND contig_count > 0 AND SPECIESTAXID !=0 Group by SPECIESNTAXID HAVING COUNT(DISTINCT DBNAME) > 1': no such column: SPECIESNTAXID"
     ]
    }
   ],
   "source": [
    "import numpy as np\n",
    "import matplotlib.pyplot as plt\n",
    "from matplotlib.pyplot import figure\n",
    "from matplotlib import rc\n",
    "import pandas as pd\n",
    "import sqlite3\n",
    "\n",
    "cnx = sqlite3.connect(r'/Users/aaronkarlsberg/Desktop/Djoin/data/refSeqFungiStats.db')\n",
    "\n",
    "species_with_contigs_in_onedb_chrom_in_other = []\n",
    "\n",
    "species_with_contigs_only = pd.read_sql_query(\"SELECT * FROM speciesdb where chromosome_count > 0 AND contig_count = 0 AND SPECIESTAXID !=0 Group by SPECIESTAXID HAVING COUNT(DISTINCT DBNAME) > 1\", cnx)\n",
    "\n",
    "species_with_chromosomes_only = pd.read_sql_query(\"SELECT * FROM speciesdb where chromosome_count = 0 AND contig_count > 0 AND SPECIESTAXID !=0 Group by SPECIESNTAXID HAVING COUNT(DISTINCT DBNAME) > 1\", cnx)\n",
    "\n",
    "\n",
    "# for indexCont, rowCont in species_with_contigs_only.iterrows():\n",
    "#     for indexChrom, rowChrom in species_with_chromosomes_only.iterrows():\n",
    "#         if rowCont[\"SPECIESTAXID\"] == rowChrom[\"SPECIESTAXID\"]:\n",
    "#             species_with_contigs_in_onedb_chrom_in_other.append(rowCont[\"SPECIESTAXID\"])\n",
    "\n",
    "# # Eliminate dublicates\n",
    "# species_with_contigs_in_onedb_chrom_in_other = list(dict.fromkeys(species_with_contigs_in_onedb_chrom_in_other))\n",
    "\n",
    "# print(species_with_contigs_in_onedb_chrom_in_other)\n",
    "\n",
    "# output of the code that is commented out above. This is to avoid running nested for loop more than once. \n",
    "species_with_contigs_in_onedb_chrom_in_other = [746128, 162425, 40559, 5476, 5478, 37769, 432096, 76777, 1005962, 5076, 4932, 5180, 4950, 27337, 4952, 4956, 6035, 109760, 5346, 5062, 61459, 263815, 101852, 1033840, 563466, 29908, 68825, 40302, 498019, 1664694, 42068, 4754, 398673, 254056, 856822, 1367422, 280754, 80884, 5619, 104669, 1209926, 4909, 5127, 5061, 5480]\n",
    "\n",
    "\n",
    "for speciestaxid in species_with_contigs_in_onedb_chrom_in_other:\n",
    "    pd.read_sql_query(\"select * from speciesdb where speciestaxid = \"+ str(speciestaxid), cnx)\n",
    "\n",
    "\n"
   ]
  },
  {
   "cell_type": "markdown",
   "metadata": {},
   "source": [
    "# Use cases to revisit:"
   ]
  },
  {
   "cell_type": "code",
   "execution_count": 8,
   "metadata": {},
   "outputs": [],
   "source": [
    "# 72 instances in which the fungi_stats code did not characterize the sequence types contained in the fasta files. This is evident where chromosome and contig counts are zero.\n",
    "\n",
    "unclassified_sequences = pd.read_sql_query(\"SELECT * FROM speciesdb where chromosome_count = 0 AND contig_count = 0 \", cnx).size\n",
    "\n"
   ]
  },
  {
   "cell_type": "code",
   "execution_count": 9,
   "metadata": {},
   "outputs": [
    {
     "name": "stdout",
     "output_type": "stream",
     "text": [
      "782\n",
      "541\n",
      "330\n",
      "211\n",
      "213\n"
     ]
    }
   ],
   "source": [
    "strain_with_contigs_only1 = pd.read_sql_query(\"SELECT STRAINTAXID FROM speciesdb where chromosome_count = 0 AND contig_count > 0 AND STRAINTAXID !=0\", cnx).size\n",
    "print(strain_with_contigs_only1)\n",
    "\n",
    "strain_with_contigs_only = pd.read_sql_query(\"SELECT STRAINTAXID FROM speciesdb where chromosome_count = 0 AND contig_count > 0 AND STRAINTAXID !=0 Group by STRAINTAXID HAVING COUNT(DISTINCT DBNAME) > 0\", cnx).size\n",
    "print(strain_with_contigs_only)\n",
    "\n",
    "strain_with_contigs_only2 = pd.read_sql_query(\"SELECT STRAINTAXID FROM speciesdb where chromosome_count = 0 AND contig_count > 0 AND STRAINTAXID !=0 Group by STRAINTAXID HAVING COUNT(DISTINCT DBNAME) = 1\", cnx).size\n",
    "print(strain_with_contigs_only2)\n",
    "\n",
    "strain_with_contigs_only4 = pd.read_sql_query(\"SELECT STRAINTAXID FROM speciesdb where chromosome_count = 0 AND contig_count > 0 AND STRAINTAXID !=0 Group by STRAINTAXID HAVING COUNT(DISTINCT DBNAME) > 1\", cnx).size\n",
    "print(strain_with_contigs_only4)\n",
    "\n",
    "\n",
    "strain_with_contigs_only3 = pd.read_sql_query(\"SELECT STRAINTAXID FROM speciesdb where chromosome_count = 0 AND contig_count > 0 AND STRAINTAXID !=0 Group by STRAINTAXID HAVING COUNT(STRAINTAXID) > 1\", cnx).size\n",
    "\n",
    "print(strain_with_contigs_only3)\n"
   ]
  },
  {
   "cell_type": "code",
   "execution_count": 17,
   "metadata": {},
   "outputs": [
    {
     "name": "stdout",
     "output_type": "stream",
     "text": [
      "   STRAINTAXID    DBNAME                                           FILEPATH\n",
      "0       237561  ENSEMBLE  /u/home/a/akarlsbe/scratch/fungi/ENSEMBLE/Cand...\n",
      "                                            FILEPATH\n",
      "0  /u/home/a/akarlsbe/scratch/fungi/ENSEMBLE/Cand...\n",
      "1  /u/home/a/akarlsbe/scratch/fungi/ENSEMBLE/Cand...\n",
      "2  /u/home/a/akarlsbe/scratch/fungi/ENSEMBLE/Cand...\n",
      "3  /u/home/a/akarlsbe/scratch/fungi/1K/Canalb1_As...\n",
      "4  /u/home/a/akarlsbe/scratch/fungi/FUNGIDB/Fungi...\n"
     ]
    }
   ],
   "source": [
    "strain_with_contigs_only5 = pd.read_sql_query(\"SELECT STRAINTAXID,DBNAME, filepath FROM speciesdb where STRAINTAXID !=0 Group by STRAINTAXID, DBNAME HAVING COUNT(*) > 2\", cnx)\n",
    "\n",
    "\n",
    "print(strain_with_contigs_only5)\n",
    "\n",
    "example = pd.read_sql_query(\"SELECT filepath FROM speciesdb where STRAINTAXID= 237561\", cnx)\n",
    "print(example)"
   ]
  },
  {
   "cell_type": "code",
   "execution_count": 5,
   "metadata": {},
   "outputs": [
    {
     "ename": "AttributeError",
     "evalue": "'list' object has no attribute 'group'",
     "output_type": "error",
     "traceback": [
      "\u001b[0;31m---------------------------------------------------------------------------\u001b[0m",
      "\u001b[0;31mAttributeError\u001b[0m                            Traceback (most recent call last)",
      "\u001b[0;32m<ipython-input-5-22f79cd5c28c>\u001b[0m in \u001b[0;36m<module>\u001b[0;34m\u001b[0m\n\u001b[1;32m      2\u001b[0m \u001b[0;34m\u001b[0m\u001b[0m\n\u001b[1;32m      3\u001b[0m \u001b[0mstring\u001b[0m \u001b[0;34m=\u001b[0m \u001b[0;34m'>ctg1 len=7717185'\u001b[0m\u001b[0;34m\u001b[0m\u001b[0;34m\u001b[0m\u001b[0m\n\u001b[0;32m----> 4\u001b[0;31m \u001b[0mprint\u001b[0m\u001b[0;34m(\u001b[0m\u001b[0mre\u001b[0m\u001b[0;34m.\u001b[0m\u001b[0mfindall\u001b[0m\u001b[0;34m(\u001b[0m\u001b[0;34mr\"\\d+\"\u001b[0m\u001b[0;34m,\u001b[0m \u001b[0mstring\u001b[0m\u001b[0;34m)\u001b[0m\u001b[0;34m.\u001b[0m\u001b[0mgroup\u001b[0m\u001b[0;34m(\u001b[0m\u001b[0;36m2\u001b[0m\u001b[0;34m)\u001b[0m\u001b[0;34m)\u001b[0m\u001b[0;34m\u001b[0m\u001b[0;34m\u001b[0m\u001b[0m\n\u001b[0m",
      "\u001b[0;31mAttributeError\u001b[0m: 'list' object has no attribute 'group'"
     ]
    }
   ],
   "source": [
    "import re\n",
    "\n",
    "string = '>ctg1 len=7717185'\n",
    "print(re.findall(r\"\\d+\", string)[1])\n"
   ]
  },
  {
   "cell_type": "code",
   "execution_count": null,
   "metadata": {},
   "outputs": [],
   "source": []
  }
 ],
 "metadata": {
  "kernelspec": {
   "display_name": "Python 3",
   "language": "python",
   "name": "python3"
  },
  "language_info": {
   "codemirror_mode": {
    "name": "ipython",
    "version": 3
   },
   "file_extension": ".py",
   "mimetype": "text/x-python",
   "name": "python",
   "nbconvert_exporter": "python",
   "pygments_lexer": "ipython3",
   "version": "3.6.8"
  }
 },
 "nbformat": 4,
 "nbformat_minor": 2
}
