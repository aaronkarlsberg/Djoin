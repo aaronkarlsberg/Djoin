{
 "cells": [
  {
   "cell_type": "code",
   "execution_count": 1,
   "metadata": {},
   "outputs": [],
   "source": [
    "# input all the fasta files into assembler per species. make flags to indicate which databases are contributing to outcome. "
   ]
  },
  {
   "cell_type": "markdown",
   "metadata": {},
   "source": [
    "# Strains that have only Contigs"
   ]
  },
  {
   "cell_type": "code",
   "execution_count": 3,
   "metadata": {
    "scrolled": true
   },
   "outputs": [
    {
     "name": "stdout",
     "output_type": "stream",
     "text": [
      "strain_with_contigs_only 211\n",
      "/u/home/a/akarlsbe/scratch/fungi/ENSEMBLE/Puccinia_graminisug99.v1.dna.toplevel.fa -i /u/home/a/akarlsbe/scratch/fungi/1K/Pucgr2_AssemblyScaffolds_Repeatmasked.fasta -i /u/home/a/akarlsbe/scratch/fungi/FUNGIDB/FungiDB-41_PgraminisCRL75-36-700-3_Genome.fasta\n",
      "/u/home/a/akarlsbe/scratch/fungi/ENSEMBLE/Blumeria_graminis.EF2.dna.toplevel.fa -i /u/home/a/akarlsbe/scratch/fungi/1K/Blugr2_AssemblyScaffolds_Repeatmasked.fasta\n",
      "/u/home/a/akarlsbe/scratch/fungi/ENSEMBLE/Coccidioides_posadasii_c735_delta_sowgp.JCVI-cpa1-1.0.dna.toplevel.fa -i /u/home/a/akarlsbe/scratch/fungi/FUNGIDB/FungiDB-41_CposadasiiC735deltSOWgp_Genome.fasta\n",
      "/u/home/a/akarlsbe/scratch/fungi/ENSEMBLE/Candida_albicans_sc5314.Cand_albi_SC5314_V4.dna.toplevel.fa -i /u/home/a/akarlsbe/scratch/fungi/ENSEMBLE/Candida_albicans_sc5314_gca_000784655.Cand_albi_SC5314_V3.dna.toplevel.fa -i /u/home/a/akarlsbe/scratch/fungi/1K/Canalb1_AssemblyScaffolds_Repeatmasked.fasta\n",
      "/u/home/a/akarlsbe/scratch/fungi/ENSEMBLE/Rhizopus_delemar_ra_99_880.RO3.dna.toplevel.fa -i /u/home/a/akarlsbe/scratch/fungi/FUNGIDB/FungiDB-41_RdelemarRA99-880_Genome.fasta\n",
      "/u/home/a/akarlsbe/scratch/fungi/ENSEMBLE/Coccidioides_immitis_rs.ASM14933v2.dna.toplevel.fa -i /u/home/a/akarlsbe/scratch/fungi/1K/Cocim1_AssemblyScaffolds_Repeatmasked.fasta -i /u/home/a/akarlsbe/scratch/fungi/FUNGIDB/FungiDB-41_CimmitisRS_Genome.fasta\n",
      "/u/home/a/akarlsbe/scratch/fungi/ENSEMBLE/Meyerozyma_guilliermondii_atcc_6260.ASM14942v1.dna.toplevel.fa -i /u/home/a/akarlsbe/scratch/fungi/1K/Meygui1_AssemblyScaffolds_Repeatmasked.fasta\n",
      "/u/home/a/akarlsbe/scratch/fungi/ENSEMBLE/Cryptococcus_gattii_vgii_r265.CNB2.dna.toplevel.fa -i /u/home/a/akarlsbe/scratch/fungi/FUNGIDB/FungiDB-41_CdeuterogattiiR265_Genome.fasta\n",
      "/u/home/a/akarlsbe/scratch/fungi/ENSEMBLE/Chaetomium_globosum_cbs_148_51.ASM14336v1.dna.toplevel.fa -i /u/home/a/akarlsbe/scratch/fungi/1K/Chagl_1_assembly_scaffolds_repeatmasked.fasta\n",
      "/u/home/a/akarlsbe/scratch/fungi/ENSEMBLE/Clavispora_lusitaniae_atcc_42720.ASM383v1.dna.toplevel.fa -i /u/home/a/akarlsbe/scratch/fungi/1K/Clalu1_2_AssemblyScaffolds_Repeatmasked.fasta -i /u/home/a/akarlsbe/scratch/fungi/FUNGIDB/FungiDB-41_ClusitaniaeATCC42720_Genome.fasta\n",
      "/u/home/a/akarlsbe/scratch/fungi/ENSEMBLE/Neosartorya_fischeri.ASM14964v1.dna.toplevel.fa -i /u/home/a/akarlsbe/scratch/fungi/FUNGIDB/FungiDB-41_AfischeriNRRL181_Genome.fasta\n",
      "/u/home/a/akarlsbe/scratch/fungi/ENSEMBLE/Aspergillus_flavus.JCVI-afl1-v2.0.dna.toplevel.fa -i /u/home/a/akarlsbe/scratch/fungi/FUNGIDB/FungiDB-41_AflavusNRRL3357_Genome.fasta\n",
      "/u/home/a/akarlsbe/scratch/fungi/ENSEMBLE/Uncinocarpus_reesii_1704.ASM351v2.dna.toplevel.fa -i /u/home/a/akarlsbe/scratch/fungi/1K/Uncre1_AssemblyScaffolds_Repeatmasked.fasta -i /u/home/a/akarlsbe/scratch/fungi/FUNGIDB/FungiDB-41_Ureesii1704_Genome.fasta\n",
      "/u/home/a/akarlsbe/scratch/fungi/ENSEMBLE/Histoplasma_capsulatum_nam1.ASM14958v1.dna.toplevel.fa -i /u/home/a/akarlsbe/scratch/fungi/1K/Hisca1_AssemblyScaffolds_Repeatmasked.fasta -i /u/home/a/akarlsbe/scratch/fungi/FUNGIDB/FungiDB-41_HcapsulatumNAm1_Genome.fasta\n",
      "/u/home/a/akarlsbe/scratch/fungi/ENSEMBLE/Aspergillus_terreus.ASM14961v1.dna.toplevel.fa -i /u/home/a/akarlsbe/scratch/fungi/1K/Aspte1_AssemblyScaffolds_Repeatmasked.fasta -i /u/home/a/akarlsbe/scratch/fungi/FUNGIDB/FungiDB-41_AterreusNIH2624_Genome.fasta\n",
      "/u/home/a/akarlsbe/scratch/fungi/ENSEMBLE/Aspergillus_clavatus.ASM271v1.dna.toplevel.fa -i /u/home/a/akarlsbe/scratch/fungi/FUNGIDB/FungiDB-41_AclavatusNRRL1_Genome.fasta\n",
      "/u/home/a/akarlsbe/scratch/fungi/ENSEMBLE/Lodderomyces_elongisporus_nrrl_yb_4239.ASM14968v1.dna.toplevel.fa -i /u/home/a/akarlsbe/scratch/fungi/1K/Lodelo1_AssemblyScaffolds_Repeatmasked.fasta\n",
      "/u/home/a/akarlsbe/scratch/fungi/ENSEMBLE/Aspergillus_niger_atcc_1015.ASPNI_v3.0.dna.toplevel.fa -i /u/home/a/akarlsbe/scratch/fungi/FUNGIDB/FungiDB-41_AnigerATCC1015_Genome.fasta\n",
      "/u/home/a/akarlsbe/scratch/fungi/ENSEMBLE/Coccidioides_immitis_h538_4.ASM14981v1.dna.toplevel.fa -i /u/home/a/akarlsbe/scratch/fungi/FUNGIDB/FungiDB-41_CimmitisH538-4_Genome.fasta\n",
      "/u/home/a/akarlsbe/scratch/fungi/ENSEMBLE/Schizosaccharomyces_japonicus.GCA_000149845.2.dna.toplevel.fa -i /u/home/a/akarlsbe/scratch/fungi/1K/Schja1_AssemblyScaffolds_Repeatmasked.fasta -i /u/home/a/akarlsbe/scratch/fungi/FUNGIDB/FungiDB-41_SjaponicusyFS275_Genome.fasta\n",
      "/u/home/a/akarlsbe/scratch/fungi/ENSEMBLE/Batrachochytrium_dendrobatidis_jel423.BD_JEL423.dna.toplevel.fa -i /u/home/a/akarlsbe/scratch/fungi/FUNGIDB/FungiDB-41_BdendrobatidisJEL423_Genome.fasta\n",
      "/u/home/a/akarlsbe/scratch/fungi/ENSEMBLE/Coccidioides_immitis_rmscc_2394.ASM14989v1.dna.toplevel.fa -i /u/home/a/akarlsbe/scratch/fungi/FUNGIDB/FungiDB-41_CimmitisRMSCC2394_Genome.fasta\n",
      "/u/home/a/akarlsbe/scratch/fungi/ENSEMBLE/Trichoderma_virens.ASM17099v1.dna.toplevel.fa -i /u/home/a/akarlsbe/scratch/fungi/1K/Trichoderma_virens_v2.allmasked\n",
      "/u/home/a/akarlsbe/scratch/fungi/ENSEMBLE/Trichoderma_reesei.GCA_000167675.2.dna.toplevel.fa -i /u/home/a/akarlsbe/scratch/fungi/1K/Trichoderma_reeseiV2.allmasked -i /u/home/a/akarlsbe/scratch/fungi/FUNGIDB/FungiDB-41_TreeseiQM6a_Genome.fasta\n",
      "/u/home/a/akarlsbe/scratch/fungi/ENSEMBLE/Talaromyces_stipitatus_atcc_10500.JCVI-TSTA1-3.0.dna.toplevel.fa -i /u/home/a/akarlsbe/scratch/fungi/FUNGIDB/FungiDB-41_TstipitatusATCC10500_Genome.fasta\n",
      "/u/home/a/akarlsbe/scratch/fungi/ENSEMBLE/Talaromyces_marneffei_atcc_18224.JCVI-PMFA1-2.0.dna.toplevel.fa -i /u/home/a/akarlsbe/scratch/fungi/FUNGIDB/FungiDB-41_TmarneffeiATCC18224_Genome.fasta\n",
      "/u/home/a/akarlsbe/scratch/fungi/ENSEMBLE/Coccidioides_posadasii_str_silveira.CPS2.dna.toplevel.fa -i /u/home/a/akarlsbe/scratch/fungi/FUNGIDB/FungiDB-41_CposadasiiSilveira_Genome.fasta\n",
      "/u/home/a/akarlsbe/scratch/fungi/ENSEMBLE/Histoplasma_capsulatum_g186ar.ASM15011v1.dna.toplevel.fa -i /u/home/a/akarlsbe/scratch/fungi/FUNGIDB/FungiDB-41_HcapsulatumG186AR_Genome.fasta\n",
      "/u/home/a/akarlsbe/scratch/fungi/ENSEMBLE/Aspergillus_fumigatusa1163.ASM15014v1.dna.toplevel.fa -i /u/home/a/akarlsbe/scratch/fungi/FUNGIDB/FungiDB-41_AfumigatusA1163_Genome.fasta\n",
      "/u/home/a/akarlsbe/scratch/fungi/ENSEMBLE/Trichoderma_atroviride_imi_206040.TRIAT_v2.0.dna.toplevel.fa -i /u/home/a/akarlsbe/scratch/fungi/1K/Trichoderma_atroviride_v2.allmasked\n",
      "/u/home/a/akarlsbe/scratch/fungi/ENSEMBLE/Coccidioides_posadasii_rmscc_3488.ASM15005v1.dna.toplevel.fa -i /u/home/a/akarlsbe/scratch/fungi/FUNGIDB/FungiDB-41_CposadasiiRMSCC3488_Genome.fasta\n",
      "/u/home/a/akarlsbe/scratch/fungi/ENSEMBLE/Coccidioides_immitis_rmscc_3703.ASM15008v1.dna.toplevel.fa -i /u/home/a/akarlsbe/scratch/fungi/FUNGIDB/FungiDB-41_CimmitisRMSCC3703_Genome.fasta\n",
      "/u/home/a/akarlsbe/scratch/fungi/ENSEMBLE/Enterocytozoon_bieneusi_h348.ASM20948v1.dna.toplevel.fa -i /u/home/a/akarlsbe/scratch/fungi/1K/Entbi1_AssemblyScaffolds_Repeatmasked.fasta\n",
      "/u/home/a/akarlsbe/scratch/fungi/ENSEMBLE/Paracoccidioides_brasiliensis_pb03.Paracocci_br_Pb03_V2.dna.toplevel.fa -i /u/home/a/akarlsbe/scratch/fungi/FUNGIDB/FungiDB-41_PbrasiliensisPb03_Genome.fasta\n",
      "/u/home/a/akarlsbe/scratch/fungi/ENSEMBLE/Schizosaccharomyces_octosporus.GCA_000150505.2.dna.toplevel.fa -i /u/home/a/akarlsbe/scratch/fungi/1K/Schoc1_AssemblyScaffolds_Repeatmasked.fasta -i /u/home/a/akarlsbe/scratch/fungi/FUNGIDB/FungiDB-41_SoctosporusyFS286_Genome.fasta\n",
      "/u/home/a/akarlsbe/scratch/fungi/ENSEMBLE/Penicillium_rubens_wisconsin_54_1255.PenChr_Nov2007.dna.toplevel.fa -i /u/home/a/akarlsbe/scratch/fungi/FUNGIDB/FungiDB-41_PrubensWisconsin54-1255_Genome.fasta\n",
      "/u/home/a/akarlsbe/scratch/fungi/ENSEMBLE/Paracoccidioides_sp_lutzii_pb01.Paracocci_br_Pb01_V2.dna.toplevel.fa -i /u/home/a/akarlsbe/scratch/fungi/FUNGIDB/FungiDB-41_PlutziiPb01_Genome.fasta\n",
      "/u/home/a/akarlsbe/scratch/fungi/ENSEMBLE/Paracoccidioides_brasiliensis_pb18.Paracocci_br_Pb18_V2.dna.toplevel.fa -i /u/home/a/akarlsbe/scratch/fungi/1K/Parbra1_AssemblyScaffolds_Repeatmasked.fasta -i /u/home/a/akarlsbe/scratch/fungi/FUNGIDB/FungiDB-41_PbrasiliensisPb18_Genome.fasta\n",
      "/u/home/a/akarlsbe/scratch/fungi/ENSEMBLE/Neurospora_tetrasperma_fgsc_2508.v2.0.dna.toplevel.fa -i /u/home/a/akarlsbe/scratch/fungi/FUNGIDB/FungiDB-41_NtetraspermaFGSC2508_Genome.fasta\n",
      "/u/home/a/akarlsbe/scratch/fungi/ENSEMBLE/Neurospora_tetrasperma_fgsc_2509.v1.0.dna.toplevel.fa -i /u/home/a/akarlsbe/scratch/fungi/1K/Neurospora_tetrasperma_mata.allmasked\n",
      "/u/home/a/akarlsbe/scratch/fungi/1K/Neurospora_discreta.allmasked -i /u/home/a/akarlsbe/scratch/fungi/FUNGIDB/FungiDB-41_NdiscretaFGSC8579_Genome.fasta\n",
      "/u/home/a/akarlsbe/scratch/fungi/ENSEMBLE/Histoplasma_capsulatum_h88.ASM15100v2.dna.toplevel.fa -i /u/home/a/akarlsbe/scratch/fungi/FUNGIDB/FungiDB-41_HcapsulatumH88_Genome.fasta\n",
      "/u/home/a/akarlsbe/scratch/fungi/ENSEMBLE/Histoplasma_capsulatum_h143.ASM15103v1.dna.toplevel.fa -i /u/home/a/akarlsbe/scratch/fungi/FUNGIDB/FungiDB-41_HcapsulatumH143_Genome.fasta\n",
      "/u/home/a/akarlsbe/scratch/fungi/ENSEMBLE/Arthroderma_otae_cbs_113480.ASM15114v1.dna.toplevel.fa -i /u/home/a/akarlsbe/scratch/fungi/1K/Micca1_AssemblyScaffolds_Repeatmasked.fasta\n",
      "/u/home/a/akarlsbe/scratch/fungi/ENSEMBLE/Moniliophthora_perniciosa_fa553.ASM18302v1.dna.toplevel.fa -i /u/home/a/akarlsbe/scratch/fungi/1K/Monpe1_1_AssemblyScaffolds_Repeatmasked.fasta\n",
      "/u/home/a/akarlsbe/scratch/fungi/ENSEMBLE/Blastomyces_gilchristii_slh14081.BD_SLH14081_V1.dna.toplevel.fa -i /u/home/a/akarlsbe/scratch/fungi/1K/Blade1_AssemblyScaffolds_Repeatmasked.fasta\n",
      "/u/home/a/akarlsbe/scratch/fungi/ENSEMBLE/Trichophyton_rubrum_cbs_118892.ASM15142v1.dna_sm.toplevel.fa -i /u/home/a/akarlsbe/scratch/fungi/1K/Triru1_AssemblyScaffolds_Repeatmasked.fasta\n",
      "/u/home/a/akarlsbe/scratch/fungi/ENSEMBLE/Tremella_mesenterica_dsm_1558.Treme1.dna.toplevel.fa -i /u/home/a/akarlsbe/scratch/fungi/1K/Treme1_masked_genomic_scaffolds.fasta -i /u/home/a/akarlsbe/scratch/fungi/FUNGIDB/FungiDB-41_TmesentericaDSM1558_Genome.fasta\n",
      "/u/home/a/akarlsbe/scratch/fungi/ENSEMBLE/Serpula_lacrymans_var_lacrymans_s7_9.v1.0.dna.toplevel.fa -i /u/home/a/akarlsbe/scratch/fungi/1K/SerlaS7_9_2_AssemblyScaffolds_Repeatmasked.fasta\n",
      "/u/home/a/akarlsbe/scratch/fungi/ENSEMBLE/Rhodotorula_graminis_wp1.Rhoba1_1.dna.toplevel.fa -i /u/home/a/akarlsbe/scratch/fungi/1K/Rhoba1_1_AssemblyScaffolds_Repeatmasked.fasta\n"
     ]
    },
    {
     "name": "stdout",
     "output_type": "stream",
     "text": [
      "/u/home/a/akarlsbe/scratch/fungi/ENSEMBLE/Allomyces_macrogynus_atcc_38327.A_macrogynus_V3.dna.toplevel.fa -i /u/home/a/akarlsbe/scratch/fungi/1K/Allma1_AssemblyScaffolds_Repeatmasked.fasta -i /u/home/a/akarlsbe/scratch/fungi/FUNGIDB/FungiDB-41_AmacrogynusATCC38327_Genome.fasta\n",
      "/u/home/a/akarlsbe/scratch/fungi/ENSEMBLE/_candida_tenuis_atcc_10573.Candida_tenuis_v1.0.dna.toplevel.fa -i /u/home/a/akarlsbe/scratch/fungi/1K/Cante1_masked_genomic_scaffolds.fasta\n",
      "/u/home/a/akarlsbe/scratch/fungi/ENSEMBLE/Agaricus_bisporus_var_burnettii_jb137_s8.Agabi_varbur_1.dna.toplevel.fa -i /u/home/a/akarlsbe/scratch/fungi/1K/Abisporus_varburnettii.v2.masked.fasta\n",
      "/u/home/a/akarlsbe/scratch/fungi/ENSEMBLE/Aspergillus_carbonarius_item_5010.Aspca3.dna.toplevel.fa -i /u/home/a/akarlsbe/scratch/fungi/1K/Aspca3_masked_scaffolds.fasta -i /u/home/a/akarlsbe/scratch/fungi/FUNGIDB/FungiDB-41_AcarbonariusITEM5010_Genome.fasta\n",
      "/u/home/a/akarlsbe/scratch/fungi/ENSEMBLE/Spathaspora_passalidarum_nrrl_y_27907.Spathaspora_passalidarum_v2.0.dna.toplevel.fa -i /u/home/a/akarlsbe/scratch/fungi/1K/Spapa3_masked_genomic_scaffolds.fasta\n",
      "/u/home/a/akarlsbe/scratch/fungi/ENSEMBLE/Puccinia_triticina.ASM15152v1.dna.toplevel.fa -i /u/home/a/akarlsbe/scratch/fungi/1K/Puctr1_AssemblyScaffolds_Repeatmasked.fasta\n",
      "/u/home/a/akarlsbe/scratch/fungi/ENSEMBLE/Gaeumannomyces_graminis.Gae_graminis_V2.dna.toplevel.fa -i /u/home/a/akarlsbe/scratch/fungi/1K/Gaegr1_AssemblyScaffolds_Repeatmasked.fasta\n",
      "/u/home/a/akarlsbe/scratch/fungi/ENSEMBLE/Colletotrichum_graminicola.C_graminicola_M1_001_V1.dna.toplevel.fa -i /u/home/a/akarlsbe/scratch/fungi/1K/Colgr1_AssemblyScaffolds_Repeatmasked.fasta\n",
      "/u/home/a/akarlsbe/scratch/fungi/ENSEMBLE/Spizellomyces_punctatus_daom_br117.S_punctatus_V1.dna.toplevel.fa -i /u/home/a/akarlsbe/scratch/fungi/1K/Spipu1_AssemblyScaffolds_Repeatmasked.fasta -i /u/home/a/akarlsbe/scratch/fungi/FUNGIDB/FungiDB-41_SpunctatusDAOMBR117_Genome.fasta\n",
      "/u/home/a/akarlsbe/scratch/fungi/ENSEMBLE/Schizosaccharomyces_cryophilus.GCA_000004155.2.dna.toplevel.fa -i /u/home/a/akarlsbe/scratch/fungi/1K/Schcy1_AssemblyScaffolds_Repeatmasked.fasta\n",
      "/u/home/a/akarlsbe/scratch/fungi/ENSEMBLE/Beauveria_bassiana_arsef_2860.ASM28067v1.dna.toplevel.fa -i /u/home/a/akarlsbe/scratch/fungi/1K/Beaba1_AssemblyScaffolds_Repeatmasked.fasta\n",
      "/u/home/a/akarlsbe/scratch/fungi/ENSEMBLE/Metarhizium_acridum_cqma_102.MetAcr_May2010.dna.toplevel.fa -i /u/home/a/akarlsbe/scratch/fungi/1K/Metac1_AssemblyScaffolds_Repeatmasked.fasta\n",
      "/u/home/a/akarlsbe/scratch/fungi/ENSEMBLE/Metarhizium_anisopliae_arsef_23.MAA_2.0.dna.toplevel.fa -i /u/home/a/akarlsbe/scratch/fungi/1K/Metro1_AssemblyScaffolds_Repeatmasked.fasta\n",
      "/u/home/a/akarlsbe/scratch/fungi/ENSEMBLE/Tuber_melanosporum.ASM15164v1.dna.toplevel.fa -i /u/home/a/akarlsbe/scratch/fungi/1K/Tubme1_AssemblyScaffolds_Repeatmasked.fasta\n",
      "/u/home/a/akarlsbe/scratch/fungi/ENSEMBLE/Pseudogymnoascus_destructans_20631_21.Geom_destructans_V1.dna.toplevel.fa -i /u/home/a/akarlsbe/scratch/fungi/1K/Pseudest1_AssemblyScaffolds_Repeatmasked.fasta\n",
      "/u/home/a/akarlsbe/scratch/fungi/ENSEMBLE/Fusarium_oxysporum_fo47.FO_Fo47_V1.dna.toplevel.fa -i /u/home/a/akarlsbe/scratch/fungi/FUNGIDB/FungiDB-41_FoxysporumFo47_Genome.fasta\n",
      "/u/home/a/akarlsbe/scratch/fungi/ENSEMBLE/Trichophyton_verrucosum_hki_0517.ASM15150v1.dna.toplevel.fa -i /u/home/a/akarlsbe/scratch/fungi/1K/Triver1_AssemblyScaffolds_Repeatmasked.fasta\n",
      "/u/home/a/akarlsbe/scratch/fungi/ENSEMBLE/Trichophyton_benhamiae_cbs_112371.ASM15112v2.dna.toplevel.fa -i /u/home/a/akarlsbe/scratch/fungi/1K/Artbe1_AssemblyScaffolds_Repeatmasked.fasta\n",
      "/u/home/a/akarlsbe/scratch/fungi/ENSEMBLE/Paxillus_involutus_atcc_200175.Paxillus_involutus_ATCC_200175_v1.0.dna.toplevel.fa -i /u/home/a/akarlsbe/scratch/fungi/1K/Paxin1_AssemblyScaffolds_Repeatmasked.fasta\n",
      "/u/home/a/akarlsbe/scratch/fungi/ENSEMBLE/Sclerotinia_sclerotiorum.ASM14694v1.dna.toplevel.fa -i /u/home/a/akarlsbe/scratch/fungi/1K/Sclsc1_AssemblyScaffolds_Repeatmasked.fasta -i /u/home/a/akarlsbe/scratch/fungi/FUNGIDB/FungiDB-41_Ssclerotiorum1980UF-70_Genome.fasta\n",
      "/u/home/a/akarlsbe/scratch/fungi/ENSEMBLE/Bipolaris_sorokiniana_nd90pr.Cocsa1.dna.toplevel.fa -i /u/home/a/akarlsbe/scratch/fungi/1K/Cocsa1_AssemblyScaffolds_Repeatmasked.fasta\n",
      "/u/home/a/akarlsbe/scratch/fungi/ENSEMBLE/Pachysolen_tannophilus_nrrl_y_2460.Pacta1_2.dna.toplevel.fa -i /u/home/a/akarlsbe/scratch/fungi/1K/Pacta1_2_AssemblyScaffolds_Repeatmasked.fasta\n",
      "/u/home/a/akarlsbe/scratch/fungi/ENSEMBLE/Gloeophyllum_trabeum_atcc_11539.Glotr1_1.dna.toplevel.fa -i /u/home/a/akarlsbe/scratch/fungi/1K/Glotr1_1_AssemblyScaffolds_Repeatmasked.fasta\n",
      "/u/home/a/akarlsbe/scratch/fungi/ENSEMBLE/Wallemia_mellicola_cbs_633_66.Wallemia_sebi_v1.0.dna.toplevel.fa -i /u/home/a/akarlsbe/scratch/fungi/1K/Walse1_AssemblyScaffolds_Repeatmasked.fasta\n",
      "/u/home/a/akarlsbe/scratch/fungi/ENSEMBLE/Dothistroma_septosporum.GCA_000340195.1.dna.toplevel.fa -i /u/home/a/akarlsbe/scratch/fungi/1K/Dotse1_AssemblyScaffolds_Repeatmasked.fasta\n",
      "/u/home/a/akarlsbe/scratch/fungi/ENSEMBLE/Microbotryum_violaceum.GCA_000166175.1.dna.toplevel.fa -i /u/home/a/akarlsbe/scratch/fungi/1K/Micld1_AssemblyScaffolds_Repeatmasked.fasta -i /u/home/a/akarlsbe/scratch/fungi/1K/Micvi1_AssemblyScaffolds_Repeatmasked.fasta\n",
      "/u/home/a/akarlsbe/scratch/fungi/ENSEMBLE/Batrachochytrium_dendrobatidis_jam81.v1.0.dna.toplevel.fa -i /u/home/a/akarlsbe/scratch/fungi/1K/Batde5_masked_scaffolds.fasta\n",
      "/u/home/a/akarlsbe/scratch/fungi/ENSEMBLE/Galerina_marginata_cbs_339_88.Galma1.dna.toplevel.fa -i /u/home/a/akarlsbe/scratch/fungi/1K/Galma1_AssemblyScaffolds_Repeatmasked.fasta\n",
      "/u/home/a/akarlsbe/scratch/fungi/ENSEMBLE/Hebeloma_cylindrosporum_h7.Hebeloma_cylindrosporum_h7_v2.0.dna.toplevel.fa -i /u/home/a/akarlsbe/scratch/fungi/1K/Hebcy2_AssemblyScaffolds_Repeatmasked.fasta\n",
      "/u/home/a/akarlsbe/scratch/fungi/ENSEMBLE/Aspergillus_aculeatus_atcc_16872.Aspac1.dna.toplevel.fa -i /u/home/a/akarlsbe/scratch/fungi/1K/Aspac1_masked_scaffolds.fasta -i /u/home/a/akarlsbe/scratch/fungi/FUNGIDB/FungiDB-41_AaculeatusATCC16872_Genome.fasta\n",
      "/u/home/a/akarlsbe/scratch/fungi/ENSEMBLE/Sphaerulina_musiva_so2202.Septoria_musiva_SO2202_v1.0.dna.toplevel.fa -i /u/home/a/akarlsbe/scratch/fungi/1K/Sepmu1_AssemblyScaffolds_Repeatmasked.fasta\n",
      "/u/home/a/akarlsbe/scratch/fungi/ENSEMBLE/Fomitiporia_mediterranea_mf3_22.Fomme1.dna.toplevel.fa -i /u/home/a/akarlsbe/scratch/fungi/1K/Fomme1_AssemblyScaffolds_Repeatmasked.fasta\n",
      "/u/home/a/akarlsbe/scratch/fungi/ENSEMBLE/Saitoella_complicata_nrrl_y_17804_gca_001661265.Saico1.dna.toplevel.fa -i /u/home/a/akarlsbe/scratch/fungi/ENSEMBLE/Saitoella_complicata_nrrl_y_17804.Scomplicata_3.0.dna.toplevel.fa -i /u/home/a/akarlsbe/scratch/fungi/1K/Saico1_AssemblyScaffolds_Repeatmasked.fasta\n",
      "/u/home/a/akarlsbe/scratch/fungi/ENSEMBLE/Bipolaris_maydis_c5.CocheC5_3.dna.toplevel.fa -i /u/home/a/akarlsbe/scratch/fungi/1K/CocheC5_1_assembly_scaffolds_repeatmasked.fasta -i /u/home/a/akarlsbe/scratch/fungi/1K/CocheC5_3_AssemblyScaffolds_Repeatmasked.fasta\n",
      "/u/home/a/akarlsbe/scratch/fungi/ENSEMBLE/Baudoinia_panamericana_uamh_10762.Bauco1.dna.toplevel.fa -i /u/home/a/akarlsbe/scratch/fungi/1K/Bauco1_AssemblyScaffolds_Repeatmasked.fasta\n",
      "/u/home/a/akarlsbe/scratch/fungi/ENSEMBLE/Trametes_versicolor_fp_101664_ss1.Trametes_versicolor_v1.0.dna.toplevel.fa -i /u/home/a/akarlsbe/scratch/fungi/1K/Trave1_AssemblyScaffolds_Repeatmasked.fasta\n",
      "/u/home/a/akarlsbe/scratch/fungi/ENSEMBLE/Stereum_hirsutum_fp_91666_ss1.Stehi1.dna.toplevel.fa -i /u/home/a/akarlsbe/scratch/fungi/1K/Stehi1_AssemblyScaffolds_Repeatmasked.fasta\n",
      "/u/home/a/akarlsbe/scratch/fungi/ENSEMBLE/Dichomitus_squalens_lyad_421_ss1.Dichomitus_squalens_v1.0.dna.toplevel.fa -i /u/home/a/akarlsbe/scratch/fungi/1K/Dicsq1_AssemblyScaffolds_Repeatmasked.fasta\n",
      "/u/home/a/akarlsbe/scratch/fungi/ENSEMBLE/Punctularia_strigosozonata_hhb_11173_ss5.Punctularia_strigosozonata_v1.0.dna.toplevel.fa -i /u/home/a/akarlsbe/scratch/fungi/1K/Punst1_AssemblyScaffolds_Repeatmasked.fasta\n",
      "/u/home/a/akarlsbe/scratch/fungi/ENSEMBLE/Coniophora_puteana_rwd_64_598_ss2.Conpu1.dna.toplevel.fa -i /u/home/a/akarlsbe/scratch/fungi/1K/Conpu1_AssemblyScaffolds_Repeatmasked.fasta\n",
      "/u/home/a/akarlsbe/scratch/fungi/ENSEMBLE/Phlebiopsis_gigantea_11061_1_cr5_6.Phlgi1.dna.toplevel.fa -i /u/home/a/akarlsbe/scratch/fungi/1K/Phlgi1_AssemblyScaffolds_Repeatmasked.fasta\n",
      "/u/home/a/akarlsbe/scratch/fungi/ENSEMBLE/Rhizophagus_irregularis_daom_181602_gca_000439145.Gloin1.dna.toplevel.fa -i /u/home/a/akarlsbe/scratch/fungi/1K/Gloin1_AssemblyScaffolds_Repeatmasked.fasta\n",
      "/u/home/a/akarlsbe/scratch/fungi/ENSEMBLE/Heterobasidion_irregulare_tc_32_1.Heterobasidion_irregulare_v2.0.dna.toplevel.fa -i /u/home/a/akarlsbe/scratch/fungi/1K/Heterobasidion_annosum.allmasked\n",
      "/u/home/a/akarlsbe/scratch/fungi/ENSEMBLE/Melampsora_laricipopulina.GCA_000204055.1.dna.toplevel.fa -i /u/home/a/akarlsbe/scratch/fungi/FUNGIDB/FungiDB-41_Mlarici-populina98AG31_Genome.fasta\n"
     ]
    },
    {
     "name": "stdout",
     "output_type": "stream",
     "text": [
      "/u/home/a/akarlsbe/scratch/fungi/ENSEMBLE/Mucor_circinelloides_f_lusitanicus_cbs_277_49.Mucci2.dna.toplevel.fa -i /u/home/a/akarlsbe/scratch/fungi/FUNGIDB/FungiDB-41_McircinelloidesCBS277-49_Genome.fasta\n",
      "/u/home/a/akarlsbe/scratch/fungi/ENSEMBLE/Arthrobotrys_oligospora_atcc_24927.AOL24927_1.0.dna.toplevel.fa -i /u/home/a/akarlsbe/scratch/fungi/1K/Artol1_AssemblyScaffolds_Repeatmasked.fasta\n",
      "/u/home/a/akarlsbe/scratch/fungi/ENSEMBLE/Pichia_membranifaciens_nrrl_y_2026.Picme2.dna.toplevel.fa -i /u/home/a/akarlsbe/scratch/fungi/1K/Picme2_AssemblyScaffolds_Repeatmasked.fasta\n",
      "/u/home/a/akarlsbe/scratch/fungi/ENSEMBLE/Phycomyces_blakesleeanus_nrrl_1555_.Phybl2.dna.toplevel.fa -i /u/home/a/akarlsbe/scratch/fungi/FUNGIDB/FungiDB-41_PblakesleeanusNRRL1555_Genome.fasta\n",
      "/u/home/a/akarlsbe/scratch/fungi/ENSEMBLE/Piloderma_croceum_f_1598.Piloderma_croceum_F_1598_v1.0.dna.toplevel.fa -i /u/home/a/akarlsbe/scratch/fungi/1K/Pilcr1_AssemblyScaffolds_Repeatmasked.fasta\n",
      "/u/home/a/akarlsbe/scratch/fungi/ENSEMBLE/Tortispora_caseinolytica_nrrl_y_17796.Canca1.dna.toplevel.fa -i /u/home/a/akarlsbe/scratch/fungi/1K/Canca1_AssemblyScaffolds_Repeatmasked.fasta\n",
      "/u/home/a/akarlsbe/scratch/fungi/ENSEMBLE/Aspergillus_brasiliensis_cbs_101740.Aspbr1.dna.toplevel.fa -i /u/home/a/akarlsbe/scratch/fungi/1K/Aspbr1_AssemblyScaffolds_Repeatmasked.fasta -i /u/home/a/akarlsbe/scratch/fungi/FUNGIDB/FungiDB-41_AbrasiliensisCBS101740_Genome.fasta\n",
      "/u/home/a/akarlsbe/scratch/fungi/ENSEMBLE/Aspergillus_tubingensis_cbs_134_48.Asptu1.dna.toplevel.fa -i /u/home/a/akarlsbe/scratch/fungi/1K/Asptu1_AssemblyScaffolds_Repeatmasked.fasta -i /u/home/a/akarlsbe/scratch/fungi/FUNGIDB/FungiDB-41_AtubingensisCBS134.48_Genome.fasta\n",
      "/u/home/a/akarlsbe/scratch/fungi/ENSEMBLE/Sordaria_macrospora.ASM18280v2.dna.toplevel.fa -i /u/home/a/akarlsbe/scratch/fungi/FUNGIDB/FungiDB-41_Smacrosporak-hell_Genome.fasta\n",
      "/u/home/a/akarlsbe/scratch/fungi/ENSEMBLE/Conidiobolus_coronatus_nrrl_28638.Conidiobolus_coronatus_NRRL28638.dna.toplevel.fa -i /u/home/a/akarlsbe/scratch/fungi/1K/Conco1_AssemblyScaffolds_Repeatmasked.fasta\n",
      "/u/home/a/akarlsbe/scratch/fungi/ENSEMBLE/Acremonium_chrysogenum_atcc_11550.ASM76926v1.dna.toplevel.fa -i /u/home/a/akarlsbe/scratch/fungi/1K/Acrchr1_AssemblyScaffolds_Repeatmasked.fasta\n",
      "/u/home/a/akarlsbe/scratch/fungi/ENSEMBLE/Nadsonia_fulvescens_var_elongata_dsm_6958.Nadfu1.dna.toplevel.fa -i /u/home/a/akarlsbe/scratch/fungi/1K/Nadfu1_AssemblyScaffolds_Repeatmasked.fasta\n",
      "/u/home/a/akarlsbe/scratch/fungi/ENSEMBLE/Exophiala_dermatitidis_nih_ut8656.Exop_derm_V1.dna.toplevel.fa -i /u/home/a/akarlsbe/scratch/fungi/1K/Exode1_AssemblyScaffolds_Repeatmasked.fasta\n",
      "/u/home/a/akarlsbe/scratch/fungi/ENSEMBLE/Metschnikowia_bicuspidata_var_bicuspidata_nrrl_yb_4993.Metbi1.dna.toplevel.fa -i /u/home/a/akarlsbe/scratch/fungi/1K/Metbi1_AssemblyScaffolds_Repeatmasked.fasta\n",
      "/u/home/a/akarlsbe/scratch/fungi/ENSEMBLE/Puccinia_striiformis.PST-130_1.0.dna.toplevel.fa -i /u/home/a/akarlsbe/scratch/fungi/1K/Pucst1_AssemblyScaffolds_Repeatmasked.fasta\n",
      "/u/home/a/akarlsbe/scratch/fungi/ENSEMBLE/Nematocida_parisii_ertm1.Nema_parisii_ERTm1_V3.dna.toplevel.fa -i /u/home/a/akarlsbe/scratch/fungi/1K/Nempa1_AssemblyScaffolds_Repeatmasked.fasta\n",
      "/u/home/a/akarlsbe/scratch/fungi/ENSEMBLE/Oidiodendron_maius_zn.Oidiodendron_maius_Zn_v1.0.dna.toplevel.fa -i /u/home/a/akarlsbe/scratch/fungi/1K/Oidma1_AssemblyScaffolds_Repeatmasked.fasta\n",
      "/u/home/a/akarlsbe/scratch/fungi/ENSEMBLE/Gelatoporia_subvermispora_b.Ceriporiopsis_subvermispora_B_v1.0.dna.toplevel.fa -i /u/home/a/akarlsbe/scratch/fungi/1K/Ceriporiopsis_subvermispora.masked.fasta\n",
      "/u/home/a/akarlsbe/scratch/fungi/ENSEMBLE/Bipolaris_zeicola_26_r_13.Cochliobolus_carbonum_v1.0.dna.toplevel.fa -i /u/home/a/akarlsbe/scratch/fungi/1K/Cocca1_AssemblyScaffolds_Repeatmasked.fasta\n",
      "/u/home/a/akarlsbe/scratch/fungi/ENSEMBLE/Bipolaris_oryzae_atcc_44560.Cochliobolus_miyabeanus_v1.0.dna.toplevel.fa -i /u/home/a/akarlsbe/scratch/fungi/1K/Cocmi1_AssemblyScaffolds_Repeatmasked.fasta\n",
      "/u/home/a/akarlsbe/scratch/fungi/ENSEMBLE/Bipolaris_victoriae_fi3.Cochliobolus_victoriae_v1.0.dna.toplevel.fa -i /u/home/a/akarlsbe/scratch/fungi/1K/Cocvi1_AssemblyScaffolds_Repeatmasked.fasta\n",
      "/u/home/a/akarlsbe/scratch/fungi/ENSEMBLE/Botryobasidium_botryosum_fd_172_ss1.Botbo1.dna.toplevel.fa -i /u/home/a/akarlsbe/scratch/fungi/1K/Botbo1_AssemblyScaffolds_Repeatmasked.fasta\n",
      "/u/home/a/akarlsbe/scratch/fungi/ENSEMBLE/Suillus_luteus_uh_slu_lm8_n1.Suilu1.dna.toplevel.fa -i /u/home/a/akarlsbe/scratch/fungi/1K/Suilu4_AssemblyScaffolds_Repeatmasked.fasta\n",
      "/u/home/a/akarlsbe/scratch/fungi/ENSEMBLE/Jaapia_argillacea_mucl_33604.Jaaar1.dna.toplevel.fa -i /u/home/a/akarlsbe/scratch/fungi/1K/Jaaar1_AssemblyScaffolds_Repeatmasked.fasta\n",
      "/u/home/a/akarlsbe/scratch/fungi/ENSEMBLE/Penicillium_oxalicum_114_2.pde_v1.0.dna.toplevel.fa -i /u/home/a/akarlsbe/scratch/fungi/1K/Penox1_AssemblyScaffolds_Repeatmasked.fasta\n",
      "/u/home/a/akarlsbe/scratch/fungi/ENSEMBLE/Serendipita_vermifera_maff_305830.Sebacina_vermifera_MAFF_305830_v1.0.dna.toplevel.fa -i /u/home/a/akarlsbe/scratch/fungi/1K/Sebve1_AssemblyScaffolds_Repeatmasked.fasta\n",
      "/u/home/a/akarlsbe/scratch/fungi/ENSEMBLE/Serpula_lacrymans_var_lacrymans_s7_3.v1.0.dna.toplevel.fa -i /u/home/a/akarlsbe/scratch/fungi/1K/Serpula_lacrymans_S7_3_v2.masked.fasta\n",
      "/u/home/a/akarlsbe/scratch/fungi/ENSEMBLE/Plicaturopsis_crispa_fd_325_ss_3.Plicr1.dna.toplevel.fa -i /u/home/a/akarlsbe/scratch/fungi/1K/Plicr1_AssemblyScaffolds_Repeatmasked.fasta\n",
      "/u/home/a/akarlsbe/scratch/fungi/ENSEMBLE/Gymnopus_luxurians_fd_317_m1.Gymlu1.dna.toplevel.fa -i /u/home/a/akarlsbe/scratch/fungi/1K/Gymlu1_AssemblyScaffolds_Repeatmasked.fasta\n",
      "/u/home/a/akarlsbe/scratch/fungi/ENSEMBLE/Hypholoma_sublateritium_fd_334_ss_4.Hypsu1.dna.toplevel.fa -i /u/home/a/akarlsbe/scratch/fungi/1K/Hypsu1_AssemblyScaffolds_Repeatmasked.fasta\n",
      "/u/home/a/akarlsbe/scratch/fungi/ENSEMBLE/Amanita_muscaria_koide_bx008.Amanita_muscaria_Koide_BX008_v1.0.dna.toplevel.fa -i /u/home/a/akarlsbe/scratch/fungi/1K/Amamu1_AssemblyScaffolds_Repeatmasked.fasta\n",
      "/u/home/a/akarlsbe/scratch/fungi/ENSEMBLE/Cordyceps_militaris_cm01.CmilitarisCM01_v01.dna.toplevel.fa -i /u/home/a/akarlsbe/scratch/fungi/1K/Cormi1_AssemblyScaffolds_Repeatmasked.fasta\n",
      "/u/home/a/akarlsbe/scratch/fungi/ENSEMBLE/Cyberlindnera_jadinii_nrrl_y_1542.Cybja1.dna.toplevel.fa -i /u/home/a/akarlsbe/scratch/fungi/1K/Cybja1_AssemblyScaffolds_Repeatmasked.fasta\n",
      "/u/home/a/akarlsbe/scratch/fungi/ENSEMBLE/Candida_arabinofermentans_nrrl_yb_2248.Canar1.dna.toplevel.fa -i /u/home/a/akarlsbe/scratch/fungi/1K/Canar1_AssemblyScaffolds_Repeatmasked.fasta\n",
      "/u/home/a/akarlsbe/scratch/fungi/ENSEMBLE/Hyphopichia_burtonii_nrrl_y_1933.Hypbu1.dna.toplevel.fa -i /u/home/a/akarlsbe/scratch/fungi/1K/Hypbu1_AssemblyScaffolds_Repeatmasked.fasta\n",
      "/u/home/a/akarlsbe/scratch/fungi/ENSEMBLE/Babjeviella_inositovora_nrrl_y_12698.Babin1.dna.toplevel.fa -i /u/home/a/akarlsbe/scratch/fungi/1K/Babin1_AssemblyScaffolds_Repeatmasked.fasta\n",
      "/u/home/a/akarlsbe/scratch/fungi/ENSEMBLE/Candida_tanzawaensis_nrrl_y_17324.Canta1.dna.toplevel.fa -i /u/home/a/akarlsbe/scratch/fungi/1K/Canta1_AssemblyScaffolds_Repeatmasked.fasta\n",
      "/u/home/a/akarlsbe/scratch/fungi/ENSEMBLE/Rozella_allomycis_csf55.Rozella_k41_t100.dna.toplevel.fa -i /u/home/a/akarlsbe/scratch/fungi/1K/Rozal1_1_AssemblyScaffolds_Repeatmasked.fasta\n",
      "/u/home/a/akarlsbe/scratch/fungi/ENSEMBLE/Hydnomerulius_pinastri_md_312.Hydpi2.dna.toplevel.fa -i /u/home/a/akarlsbe/scratch/fungi/1K/Hydpi2_AssemblyScaffolds_Repeatmasked.fasta\n",
      "/u/home/a/akarlsbe/scratch/fungi/ENSEMBLE/Fusarium_pseudograminearum.GCA_000303195.1.dna.toplevel.fa -i /u/home/a/akarlsbe/scratch/fungi/1K/Fusps1_AssemblyScaffolds_Repeatmasked.fasta\n",
      "/u/home/a/akarlsbe/scratch/fungi/1K/Aspka1_1_AssemblyScaffolds_Repeatmasked.fasta -i /u/home/a/akarlsbe/scratch/fungi/FUNGIDB/FungiDB-41_AkawachiiIFO4308_Genome.fasta\n",
      "/u/home/a/akarlsbe/scratch/fungi/ENSEMBLE/Aspergillus_versicolor_cbs_583_65.Aspve1.dna.toplevel.fa -i /u/home/a/akarlsbe/scratch/fungi/1K/Aspve1_AssemblyScaffolds_Repeatmasked.fasta -i /u/home/a/akarlsbe/scratch/fungi/FUNGIDB/FungiDB-41_AversicolorCBS583.65_Genome.fasta\n",
      "/u/home/a/akarlsbe/scratch/fungi/ENSEMBLE/Aspergillus_sydowii_cbs_593_65.Aspsy1.dna.toplevel.fa -i /u/home/a/akarlsbe/scratch/fungi/1K/Aspsy1_AssemblyScaffolds_Repeatmasked.fasta -i /u/home/a/akarlsbe/scratch/fungi/FUNGIDB/FungiDB-41_AsydowiiCBS593.65_Genome.fasta\n",
      "/u/home/a/akarlsbe/scratch/fungi/ENSEMBLE/Scleroderma_citrinum_foug_a.Scleroderma_citrinum_Foug_A_v1.0.dna.toplevel.fa -i /u/home/a/akarlsbe/scratch/fungi/1K/Sclci1_AssemblyScaffolds_Repeatmasked.fasta\n",
      "/u/home/a/akarlsbe/scratch/fungi/ENSEMBLE/Tilletiaria_anomala_ubc_951.Tilletiaria_anomala_UBC_951_v1.0.dna.toplevel.fa -i /u/home/a/akarlsbe/scratch/fungi/1K/Tilan2_AssemblyScaffolds_Repeatmasked.fasta\n",
      "/u/home/a/akarlsbe/scratch/fungi/ENSEMBLE/Aureobasidium_melanogenum_cbs_110374.Aureobasidium_pullulans_var._melanogenum_CBS_110374_v1.0.dna.toplevel.fa -i /u/home/a/akarlsbe/scratch/fungi/1K/Aurpu_var_mel1_AssemblyScaffolds_Repeatmasked.fasta\n",
      "/u/home/a/akarlsbe/scratch/fungi/ENSEMBLE/Aureobasidium_namibiae_cbs_147_97.Aureobasidium_pullulans_var._namibiae_CBS_147.97_v1.0.dna.toplevel.fa -i /u/home/a/akarlsbe/scratch/fungi/1K/Aurpu_var_nam1_AssemblyScaffolds_Repeatmasked.fasta\n",
      "/u/home/a/akarlsbe/scratch/fungi/ENSEMBLE/Aureobasidium_subglaciale_exf_2481.Aureobasidium_pullulans_var._subglaciale_EXF-2481_v1.0.dna.toplevel.fa -i /u/home/a/akarlsbe/scratch/fungi/1K/Aurpu_var_sub1_AssemblyScaffolds_Repeatmasked.fasta\n",
      "/u/home/a/akarlsbe/scratch/fungi/ENSEMBLE/Tulasnella_calospora_mut_4182.Tulasnella_calospora_AL13_4D_v1.0.dna.toplevel.fa -i /u/home/a/akarlsbe/scratch/fungi/1K/Tulca1_AssemblyScaffolds_Repeatmasked.fasta\n",
      "/u/home/a/akarlsbe/scratch/fungi/ENSEMBLE/Mortierella_verticillata_nrrl_6337.Mort_vert_NRRL_6337_V1.dna.toplevel.fa -i /u/home/a/akarlsbe/scratch/fungi/1K/Morve1_AssemblyScaffolds_Repeatmasked.fasta\n",
      "/u/home/a/akarlsbe/scratch/fungi/ENSEMBLE/Marssonina_brunnea_f_sp_multigermtubi_mb_m1.ASM29877v1.dna.toplevel.fa -i /u/home/a/akarlsbe/scratch/fungi/1K/Marbr1_AssemblyScaffolds_Repeatmasked.fasta\n",
      "/u/home/a/akarlsbe/scratch/fungi/ENSEMBLE/Aspergillus_wentii_dto_134e9.Aspwe1.dna.toplevel.fa -i /u/home/a/akarlsbe/scratch/fungi/1K/Aspwe1_AssemblyScaffolds_Repeatmasked.fasta -i /u/home/a/akarlsbe/scratch/fungi/FUNGIDB/FungiDB-41_AwentiiDTO134E9_Genome.fasta\n",
      "/u/home/a/akarlsbe/scratch/fungi/ENSEMBLE/Penicilliopsis_zonata_cbs_506_65.Aspzo1.dna.toplevel.fa -i /u/home/a/akarlsbe/scratch/fungi/1K/Aspzo1_AssemblyScaffolds_Repeatmasked.fasta -i /u/home/a/akarlsbe/scratch/fungi/FUNGIDB/FungiDB-41_AzonataCBS506.65_Genome.fasta\n",
      "/u/home/a/akarlsbe/scratch/fungi/ENSEMBLE/Pyronema_omphalodes_cbs_100304.Pcon_v1.dna.toplevel.fa -i /u/home/a/akarlsbe/scratch/fungi/1K/Pyrco1_AssemblyScaffolds_Repeatmasked.fasta\n",
      "/u/home/a/akarlsbe/scratch/fungi/ENSEMBLE/Fusarium_oxysporum_f_sp_cubense_tropical_race_4_54006.FO_II5_V1.dna.toplevel.fa -i /u/home/a/akarlsbe/scratch/fungi/FUNGIDB/FungiDB-41_Foxysporum54006_Genome.fasta\n",
      "/u/home/a/akarlsbe/scratch/fungi/ENSEMBLE/Fusarium_oxysporum_f_sp_melonis_26406.FO_melonis_V1.dna.toplevel.fa -i /u/home/a/akarlsbe/scratch/fungi/FUNGIDB/FungiDB-41_Foxysporum26406_Genome.fasta\n",
      "/u/home/a/akarlsbe/scratch/fungi/ENSEMBLE/Laccaria_amethystina_laam_08_1.Laccaria_amethystina_LaAM-08-1_v1.0.dna.toplevel.fa -i /u/home/a/akarlsbe/scratch/fungi/1K/Lacam2_AssemblyScaffolds_Repeatmasked.fasta\n",
      "/u/home/a/akarlsbe/scratch/fungi/ENSEMBLE/Rhizoctonia_solani_ag_1_ib.ASM35025v1.dna.toplevel.fa -i /u/home/a/akarlsbe/scratch/fungi/1K/Rhiso1_AssemblyScaffolds_Repeatmasked.fasta\n",
      "/u/home/a/akarlsbe/scratch/fungi/ENSEMBLE/Serendipita_indica_dsm_11827.ASM31354v1.dna.toplevel.fa -i /u/home/a/akarlsbe/scratch/fungi/1K/Pirin1_AssemblyScaffolds_Repeatmasked.fasta\n",
      "/u/home/a/akarlsbe/scratch/fungi/ENSEMBLE/Macrophomina_phaseolina_ms6.MphMS6_1.0.dna.toplevel.fa -i /u/home/a/akarlsbe/scratch/fungi/1K/Macph1_AssemblyScaffolds_Repeatmasked.fasta\n",
      "/u/home/a/akarlsbe/scratch/fungi/ENSEMBLE/Fistulina_hepatica_atcc_64428.Fishe1.dna.toplevel.fa -i /u/home/a/akarlsbe/scratch/fungi/1K/Fishe1_AssemblyScaffolds_Repeatmasked.fasta\n",
      "/u/home/a/akarlsbe/scratch/fungi/ENSEMBLE/Rhodotorula_toruloides_np11.RHOziaDV1.0.dna.toplevel.fa -i /u/home/a/akarlsbe/scratch/fungi/1K/Rhoto1_AssemblyScaffolds_Repeatmasked.fasta\n",
      "/u/home/a/akarlsbe/scratch/fungi/ENSEMBLE/Pleurotus_ostreatus_pc15.PleosPC15_2.dna.toplevel.fa -i /u/home/a/akarlsbe/scratch/fungi/1K/PleosPC15_2_Assembly_scaffolds_repeatmasked.fasta\n",
      "/u/home/a/akarlsbe/scratch/fungi/ENSEMBLE/Aspergillus_luchuensis_cbs_106_47.Aspfo1.dna.toplevel.fa -i /u/home/a/akarlsbe/scratch/fungi/1K/Aspfo1_AssemblyScaffolds_Repeatmasked.fasta -i /u/home/a/akarlsbe/scratch/fungi/FUNGIDB/FungiDB-41_AluchuensisCBS106.47_Genome.fasta\n"
     ]
    },
    {
     "name": "stdout",
     "output_type": "stream",
     "text": [
      "/u/home/a/akarlsbe/scratch/fungi/ENSEMBLE/Aspergillus_glaucus_cbs_516_65.Aspgl1.dna.toplevel.fa -i /u/home/a/akarlsbe/scratch/fungi/1K/Aspgl1_AssemblyScaffolds_Repeatmasked.fasta -i /u/home/a/akarlsbe/scratch/fungi/FUNGIDB/FungiDB-41_AglaucusCBS516.65_Genome.fasta\n",
      "/u/home/a/akarlsbe/scratch/fungi/ENSEMBLE/Puccinia_striiformis_f_sp_tritici_pst_78.P_striiformis_V1.dna.toplevel.fa -i /u/home/a/akarlsbe/scratch/fungi/1K/Pucst_PST78_1_AssemblyScaffolds_Repeatmasked.fasta\n",
      "/u/home/a/akarlsbe/scratch/fungi/ENSEMBLE/Coniosporium_apollinis_cbs_100218.Coni_apol_CBS100218_V1.dna.toplevel.fa -i /u/home/a/akarlsbe/scratch/fungi/1K/Conap1_AssemblyScaffolds_Repeatmasked.fasta\n",
      "/u/home/a/akarlsbe/scratch/fungi/ENSEMBLE/Penicillium_digitatum_pd1.PdigPd1_v1.dna.toplevel.fa -i /u/home/a/akarlsbe/scratch/fungi/1K/Pendig1_AssemblyScaffolds_Repeatmasked.fasta\n",
      "/u/home/a/akarlsbe/scratch/fungi/ENSEMBLE/Capronia_coronata_cbs_617_96.Capr_coro_CBS_617_96_V1.dna.toplevel.fa -i /u/home/a/akarlsbe/scratch/fungi/1K/Capcor1_AssemblyScaffolds_Repeatmasked.fasta\n",
      "/u/home/a/akarlsbe/scratch/fungi/ENSEMBLE/Capronia_epimyces_cbs_606_96.Capr_epim_CBS_606_96_V1.dna.toplevel.fa -i /u/home/a/akarlsbe/scratch/fungi/1K/Capep1_AssemblyScaffolds_Repeatmasked.fasta\n",
      "/u/home/a/akarlsbe/scratch/fungi/ENSEMBLE/Cladophialophora_psammophila_cbs_110553.Clad_psam_CBS_110553_V1.dna.toplevel.fa -i /u/home/a/akarlsbe/scratch/fungi/1K/Claps1_AssemblyScaffolds_Repeatmasked.fasta\n",
      "/u/home/a/akarlsbe/scratch/fungi/ENSEMBLE/Cladophialophora_yegresii_cbs_114405.Clad_yegr_CBS_114405_V1.dna.toplevel.fa -i /u/home/a/akarlsbe/scratch/fungi/1K/Claye1_AssemblyScaffolds_Repeatmasked.fasta\n",
      "/u/home/a/akarlsbe/scratch/fungi/ENSEMBLE/Exophiala_aquamarina_cbs_119918.Exop_aqua_CBS_119918_V1.dna.toplevel.fa -i /u/home/a/akarlsbe/scratch/fungi/1K/Exoaq1_AssemblyScaffolds_Repeatmasked.fasta\n",
      "/u/home/a/akarlsbe/scratch/fungi/ENSEMBLE/Trichosporon_asahii_var_asahii_cbs_2479.Trichosporon_asahii_1.dna.toplevel.fa -i /u/home/a/akarlsbe/scratch/fungi/1K/Trias2479_AssemblyScaffolds_Repeatmasked.fasta\n",
      "/u/home/a/akarlsbe/scratch/fungi/ENSEMBLE/Trichosporon_asahii_var_asahii_cbs_8904.ASM29921v2.dna.toplevel.fa -i /u/home/a/akarlsbe/scratch/fungi/1K/Trias8904_AssemblyScaffolds_Repeatmasked.fasta\n",
      "/u/home/a/akarlsbe/scratch/fungi/ENSEMBLE/Cyphellophora_europaea_cbs_101466.Phia_euro_CBS_101466_V1.dna.toplevel.fa -i /u/home/a/akarlsbe/scratch/fungi/1K/Cypeu1_AssemblyScaffolds_Repeatmasked.fasta\n",
      "/u/home/a/akarlsbe/scratch/fungi/ENSEMBLE/Fusarium_proliferatum_et1.F._proliferatum_ET1_version_1.dna.toplevel.fa -i /u/home/a/akarlsbe/scratch/fungi/FUNGIDB/FungiDB-41_FproliferatumET1_Genome.fasta\n",
      "/u/home/a/akarlsbe/scratch/fungi/ENSEMBLE/Fusarium_oxysporum_f_sp_cubense_race_1.Foc1_1.0.dna.toplevel.fa -i /u/home/a/akarlsbe/scratch/fungi/FUNGIDB/FungiDB-41_Foxysporumrace1_Genome.fasta\n",
      "/u/home/a/akarlsbe/scratch/fungi/ENSEMBLE/Fusarium_oxysporum_f_sp_cubense_race_4.Foc4_1.0.dna.toplevel.fa -i /u/home/a/akarlsbe/scratch/fungi/FUNGIDB/FungiDB-41_Foxysporumrace4_Genome.fasta\n",
      "/u/home/a/akarlsbe/scratch/fungi/ENSEMBLE/Malassezia_sympodialis_atcc_42132.ASM34930v2.dna.toplevel.fa -i /u/home/a/akarlsbe/scratch/fungi/1K/Malsy1_1_AssemblyScaffolds_Repeatmasked.fasta\n",
      "/u/home/a/akarlsbe/scratch/fungi/ENSEMBLE/Endocarpon_pusillum_z07020.EPUS.dna.toplevel.fa -i /u/home/a/akarlsbe/scratch/fungi/1K/EndpusZ1_AssemblyScaffolds_Repeatmasked.fasta\n",
      "/u/home/a/akarlsbe/scratch/fungi/ENSEMBLE/Blumeria_graminis_f_sp_tritici_96224.Bgt_454_newbler_assembly.dna.toplevel.fa -i /u/home/a/akarlsbe/scratch/fungi/1K/Blugra1_AssemblyScaffolds_Repeatmasked.fasta\n",
      "/u/home/a/akarlsbe/scratch/fungi/ENSEMBLE/Cladophialophora_carrionii_cbs_160_54.Clad_carr_CBS_160_54_V1.dna.toplevel.fa -i /u/home/a/akarlsbe/scratch/fungi/1K/Claca1_AssemblyScaffolds_Repeatmasked.fasta\n",
      "/u/home/a/akarlsbe/scratch/fungi/ENSEMBLE/Dactylellina_haptotyla_cbs_200_50.MHA_v2.dna.toplevel.fa -i /u/home/a/akarlsbe/scratch/fungi/1K/Monha1_AssemblyScaffolds_Repeatmasked.fasta\n",
      "/u/home/a/akarlsbe/scratch/fungi/ENSEMBLE/Phaeoacremonium_minimum_ucrpa7.UCRPA7V03.dna.toplevel.fa -i /u/home/a/akarlsbe/scratch/fungi/1K/Phaal1_AssemblyScaffolds_Repeatmasked.fasta\n",
      "/u/home/a/akarlsbe/scratch/fungi/ENSEMBLE/Neofusicoccum_parvum_ucrnp2.UCRNP2V3.dna.toplevel.fa -i /u/home/a/akarlsbe/scratch/fungi/1K/Neopa1_AssemblyScaffolds_Repeatmasked.fasta\n",
      "/u/home/a/akarlsbe/scratch/fungi/ENSEMBLE/Eutypa_lata_ucrel1.UCREL1V03.dna.toplevel.fa -i /u/home/a/akarlsbe/scratch/fungi/1K/Eutla1_AssemblyScaffolds_Repeatmasked.fasta\n",
      "/u/home/a/akarlsbe/scratch/fungi/ENSEMBLE/Cryptococcus_gattii_ejb2.Cryp_gatt_EJB2_V1.dna.toplevel.fa -i /u/home/a/akarlsbe/scratch/fungi/FUNGIDB/FungiDB-41_CgattiiEJB2_Genome.fasta\n",
      "/u/home/a/akarlsbe/scratch/fungi/ENSEMBLE/Cryptococcus_gattii_vgiv_ind107.Cryp_gatt_IND107_V2.dna.toplevel.fa -i /u/home/a/akarlsbe/scratch/fungi/FUNGIDB/FungiDB-41_CgattiiIND107_Genome.fasta\n",
      "/u/home/a/akarlsbe/scratch/fungi/ENSEMBLE/Cryptococcus_gattii_nt_10.Cryp_gatt_NT-10_V1.dna.toplevel.fa -i /u/home/a/akarlsbe/scratch/fungi/FUNGIDB/FungiDB-41_CgattiiNT10_Genome.fasta\n",
      "/u/home/a/akarlsbe/scratch/fungi/ENSEMBLE/Cryptococcus_gattii_ca1873.Cryp_gatt_CA1873_V1.dna.toplevel.fa -i /u/home/a/akarlsbe/scratch/fungi/FUNGIDB/FungiDB-41_CgattiiCA1873_Genome.fasta\n",
      "/u/home/a/akarlsbe/scratch/fungi/ENSEMBLE/Wallemia_ichthyophaga_exf_994.Wallemia_ichthyophaga_version_1.0.dna.toplevel.fa -i /u/home/a/akarlsbe/scratch/fungi/1K/Walic1_AssemblyScaffolds_Repeatmasked.fasta\n",
      "/u/home/a/akarlsbe/scratch/fungi/ENSEMBLE/Pseudozyma_hubeiensis_sy62.ASM40351v1.dna.toplevel.fa -i /u/home/a/akarlsbe/scratch/fungi/1K/Psehu1_AssemblyScaffolds_Repeatmasked.fasta\n",
      "/u/home/a/akarlsbe/scratch/fungi/ENSEMBLE/Sistotremastrum_niveocremeum_hhb9708.Sisni1.dna.toplevel.fa -i /u/home/a/akarlsbe/scratch/fungi/1K/Sisni1_AssemblyScaffolds_Repeatmasked.fasta\n",
      "/u/home/a/akarlsbe/scratch/fungi/ENSEMBLE/Neolentinus_lepideus_hhb14362_ss_1.Neole1.dna.toplevel.fa -i /u/home/a/akarlsbe/scratch/fungi/1K/Neole1_AssemblyScaffolds_Repeatmasked.fasta\n",
      "/u/home/a/akarlsbe/scratch/fungi/ENSEMBLE/Daedalea_quercina_l_15889.Daequ1.dna.toplevel.fa -i /u/home/a/akarlsbe/scratch/fungi/1K/Daequ1_AssemblyScaffolds_Repeatmasked.fasta\n",
      "/u/home/a/akarlsbe/scratch/fungi/ENSEMBLE/Laetiporus_sulphureus_93_53.Laesu1.dna.toplevel.fa -i /u/home/a/akarlsbe/scratch/fungi/1K/Laesu1_AssemblyScaffolds_Repeatmasked.fasta\n",
      "/u/home/a/akarlsbe/scratch/fungi/ENSEMBLE/Rhizopogon_vinicolor_am_or11_026.Rhivi1.dna.toplevel.fa -i /u/home/a/akarlsbe/scratch/fungi/1K/Rhivi1_AssemblyScaffolds_Repeatmasked.fasta\n",
      "/u/home/a/akarlsbe/scratch/fungi/ENSEMBLE/Xylona_heveae_tc161.Xylona_heveae_TC161_v1.0.dna.toplevel.fa -i /u/home/a/akarlsbe/scratch/fungi/1K/Xylhe1_AssemblyScaffolds_Repeatmasked.fasta\n",
      "/u/home/a/akarlsbe/scratch/fungi/ENSEMBLE/Calocera_viscosa_tufc12733.Calvi1.dna.toplevel.fa -i /u/home/a/akarlsbe/scratch/fungi/1K/Calvi1_AssemblyScaffolds_Repeatmasked.fasta\n",
      "/u/home/a/akarlsbe/scratch/fungi/ENSEMBLE/Ascoidea_rubescens_dsm_1968.Ascru1.dna.toplevel.fa -i /u/home/a/akarlsbe/scratch/fungi/1K/Ascru1_AssemblyScaffolds_Repeatmasked.fasta\n",
      "/u/home/a/akarlsbe/scratch/fungi/ENSEMBLE/Calocera_cornea_hhb12733.Calco1.dna.toplevel.fa -i /u/home/a/akarlsbe/scratch/fungi/1K/Calco1_AssemblyScaffolds_Repeatmasked.fasta\n",
      "/u/home/a/akarlsbe/scratch/fungi/ENSEMBLE/Byssochlamys_spectabilis_no_5.PVAR5_assembly01.dna.toplevel.fa -i /u/home/a/akarlsbe/scratch/fungi/1K/Byssp1_AssemblyScaffolds_Repeatmasked.fasta\n",
      "/u/home/a/akarlsbe/scratch/fungi/ENSEMBLE/Pochonia_chlamydosporia_170.ASM165323v1.dna.toplevel.fa -i /u/home/a/akarlsbe/scratch/fungi/1K/Pocchl1_AssemblyScaffolds_Repeatmasked.fasta\n",
      "/u/home/a/akarlsbe/scratch/fungi/ENSEMBLE/Kuraishia_capsulata_cbs_1993.AUH_PRJEB4427_v1.dna.toplevel.fa -i /u/home/a/akarlsbe/scratch/fungi/1K/Kurca1_AssemblyScaffolds_Repeatmasked.fasta\n",
      "/u/home/a/akarlsbe/scratch/fungi/ENSEMBLE/Aspergillus_ruber_cbs_135680.Eurhe1.dna.toplevel.fa -i /u/home/a/akarlsbe/scratch/fungi/1K/Eurhe1_AssemblyScaffolds_Repeatmasked.fasta\n",
      "/u/home/a/akarlsbe/scratch/fungi/ENSEMBLE/Moesziomyces_aphidis_dsm_70725.PseuAph1.0.dna.toplevel.fa -i /u/home/a/akarlsbe/scratch/fungi/1K/Moeaph1_AssemblyScaffolds_Repeatmasked.fasta\n",
      "/u/home/a/akarlsbe/scratch/fungi/1K/Aspcam1_AssemblyScaffolds_Repeatmasked.fasta -i /u/home/a/akarlsbe/scratch/fungi/FUNGIDB/FungiDB-41_AcampestrisIBT28561_Genome.fasta\n",
      "/u/home/a/akarlsbe/scratch/fungi/1K/Aspste1_AssemblyScaffolds_Repeatmasked.fasta -i /u/home/a/akarlsbe/scratch/fungi/FUNGIDB/FungiDB-41_AsteyniiIBT23096_Genome.fasta\n",
      "/u/home/a/akarlsbe/scratch/fungi/1K/Aspnov1_AssemblyScaffolds_Repeatmasked.fasta -i /u/home/a/akarlsbe/scratch/fungi/FUNGIDB/FungiDB-41_AnovofumigatusIBT16806_Genome.fasta\n",
      "/u/home/a/akarlsbe/scratch/fungi/1K/Aspoch1_AssemblyScaffolds_Repeatmasked.fasta -i /u/home/a/akarlsbe/scratch/fungi/FUNGIDB/FungiDB-41_AochraceoroseusIBT24754_Genome.fasta\n",
      "/u/home/a/akarlsbe/scratch/fungi/ENSEMBLE/Sporothrix_schenckii_1099_18.S_schenckii_v1.dna.toplevel.fa -i /u/home/a/akarlsbe/scratch/fungi/FUNGIDB/FungiDB-41_Sschenckii1099-18_Genome.fasta\n",
      "/u/home/a/akarlsbe/scratch/fungi/ENSEMBLE/Sporothrix_brasiliensis_5110.S_brasiliensis_5110_v1.dna.toplevel.fa -i /u/home/a/akarlsbe/scratch/fungi/FUNGIDB/FungiDB-41_Sbrasiliensis5110_Genome.fasta\n",
      "/u/home/a/akarlsbe/scratch/fungi/ENSEMBLE/Fonsecaea_pedrosoi_cbs_271_37.Fons_pedr_CBS_271_37_V1.dna.toplevel.fa -i /u/home/a/akarlsbe/scratch/fungi/1K/Fonpe1_AssemblyScaffolds_Repeatmasked.fasta\n",
      "/u/home/a/akarlsbe/scratch/fungi/ENSEMBLE/Cladophialophora_bantiana_cbs_173_52.Clad_bant_CBS_173_52_V1.dna.toplevel.fa -i /u/home/a/akarlsbe/scratch/fungi/1K/Claba1_AssemblyScaffolds_Repeatmasked.fasta\n",
      "/u/home/a/akarlsbe/scratch/fungi/ENSEMBLE/Fonsecaea_multimorphosa_cbs_102226.Fons_mult_CBS_102226_V1.dna.toplevel.fa -i /u/home/a/akarlsbe/scratch/fungi/1K/Fonmu1_AssemblyScaffolds_Repeatmasked.fasta\n",
      "/u/home/a/akarlsbe/scratch/fungi/ENSEMBLE/Aspergillus_nomius_nrrl_13137.ASM120477v1.dna.toplevel.fa -i /u/home/a/akarlsbe/scratch/fungi/1K/Aspnom13137_1_AssemblyScaffolds_Repeatmasked.fasta\n",
      "['/u/home/a/akarlsbe/scratch/fungi/ENSEMBLE/Aspergillus_nomius_nrrl_13137.ASM120477v1.dna.toplevel.fa\\n', '/u/home/a/akarlsbe/scratch/fungi/1K/Aspnom13137_1_AssemblyScaffolds_Repeatmasked.fasta\\n'] ['ENSEMBLE', '1K'] [1118, 1118] [32863, 32786]\n"
     ]
    }
   ],
   "source": [
    "import numpy as np\n",
    "import matplotlib.pyplot as plt\n",
    "from matplotlib.pyplot import figure\n",
    "from matplotlib import rc\n",
    "import pandas as pd\n",
    "import sqlite3\n",
    "\n",
    "cnx = sqlite3.connect(r'/Users/aaronkarlsberg/Desktop/Djoin/data/refSeqFungiStats.db')\n",
    "strain_with_contigs_only = pd.read_sql_query(\"SELECT STRAINTAXID FROM speciesdb where chromosome_count = 0 AND contig_count > 0 AND STRAINTAXID !=0 Group by STRAINTAXID HAVING COUNT(DISTINCT DBNAME) > 1\", cnx)\n",
    "\n",
    "print(\"strain_with_contigs_only\", strain_with_contigs_only.size)\n",
    "\n",
    "\n",
    "# canu requires approximate genome size as input: for now we take average contig length and multiply by the total number of contigs within a single fasta file. The mazimum between fasta files for a species will serve as the approximate genome length.\n",
    "def generate_canu_command_file_for_strain_contigs(filepaths, contributing_databases, approx_genome_length, strainTaxid):\n",
    "    approx_genome_length = str(approx_genome_length)\n",
    "    files = []\n",
    "    for file in filepaths:\n",
    "        files.append(file.strip())\n",
    "    files = ' -i '.join(files)\n",
    "    print(files)\n",
    "    distinct_databases = set(contributing_databases)\n",
    "    distinct_database_count = str(len(distinct_databases))\n",
    "    contributing_databases = '_'.join(contributing_databases)\n",
    "    new_file_name = strainTaxid +\"_\" + distinct_database_count + \"_contributing_databases_\" + contributing_databases\n",
    "    shell_script= open(\"/Users/aaronkarlsberg/Desktop/Djoin/wtdbg_shell_scripts/contig_only_strain_assembly_wtdbg_shell_command_script.sh\",\"a+\")\n",
    "    make_strain_directory = \"mkdir /u/home/a/akarlsbe/scratch/strain_contig_only_assemblies/\"+ strainTaxid +\" && cd /u/home/a/akarlsbe/scratch/strain_contig_only_assemblies/\" + strainTaxid +\"\\n\"\n",
    "    generate_assembly_command_wtdbg2 = \"/u/home/a/akarlsbe/wtdbg2/wtdbg2 -x rs -g \" + approx_genome_length + \" -i \"+ files + \" -t 16 -fo \" + new_file_name + \"\\n\"\n",
    "    generate_consensus_command_wtpoa = \"/u/home/a/akarlsbe/wtdbg2/wtpoa-cns -t 16 -i \" + new_file_name + \".ctg.lay.gz -fo \"+ new_file_name +\".raw.fa\\n\"\n",
    "    shell_script.write(make_strain_directory)\n",
    "    \n",
    "    shell_script.write(generate_assembly_command_wtdbg2)\n",
    "    shell_script.write(generate_consensus_command_wtpoa)\n",
    "    shell_script.close()\n",
    "    return\n",
    "\n",
    "for index, row in strain_with_contigs_only.iterrows():\n",
    "    strain_tax_id = str(row[\"STRAINTAXID\"])\n",
    "    strain_filepaths_query = pd.read_sql_query(\"SELECT FILEPATH, DBNAME, contig_count, avg_length_contig FROM speciesdb where STRAINTAXID = \"+ strain_tax_id +\" AND chromosome_count = 0 AND contig_count > 0 \", cnx)\n",
    "    strain_filepaths_list = []\n",
    "    strain_databases = []\n",
    "    contig_counts = []\n",
    "    avg_contig_lengths = []\n",
    "    for indexL, rowL in strain_filepaths_query.iterrows():\n",
    "        strain_filepaths_list.append(rowL[\"FILEPATH\"])\n",
    "        strain_databases.append(rowL[\"DBNAME\"])\n",
    "        contig_counts.append(rowL[\"contig_count\"])\n",
    "        avg_contig_lengths.append(rowL[\"avg_length_contig\"])\n",
    "        genome_lengths = []\n",
    "        for i in range(0,len(contig_counts)):\n",
    "            genome_lengths.append(contig_counts[i] * avg_contig_lengths[i])\n",
    "        approx_genome_length = max(genome_lengths)\n",
    "    generate_canu_command_file_for_strain_contigs(strain_filepaths_list, strain_databases, approx_genome_length, strain_tax_id)  \n",
    "    \n",
    "print(strain_filepaths_list, strain_databases, contig_counts,avg_contig_lengths)\n",
    "\n",
    "#    generate_canu_command = \"/u/home/a/akarlsbe/scratch/canu-1.8/*/bin/canu -d /u/home/a/akarlsbe/scratch/strain_contig_only_assemblies/\"+ strainTaxid +\"_\"+distinct_database_count+\"_contributing_databases_\"+ contributing_databases +\" genomeSize=\"+ approx_genome_length +\" -nanopore-raw \" + files +\" useGrid=false stopOnLowCoverage=2\\n\""
   ]
  },
  {
   "cell_type": "code",
   "execution_count": 23,
   "metadata": {},
   "outputs": [
    {
     "name": "stdout",
     "output_type": "stream",
     "text": [
      "     DBNAME  contig_count  avg_length_contig\n",
      "0  ENSEMBLE          3185              37775\n",
      "1        1K           392             229357\n",
      "2   FUNGIDB           392             229896\n"
     ]
    }
   ],
   "source": [
    "# filepath= '/u/home/a/akarlsbe/scratch/fungi/ENSEMBLE/Puccinia_graminisug99.v1.dna.toplevel.fa'\n",
    "\n",
    "# contig_count = pd.read_sql_query(\"SELECT DBNAME, contig_count, avg_length_contig FROM speciesdb where straintaxid = 56615 and contig_count>0 and chromosome_count=0 \", cnx)\n",
    "\n",
    "# print(contig_count)\n"
   ]
  },
  {
   "cell_type": "markdown",
   "metadata": {},
   "source": [
    "# Strains that have only Chromosomes"
   ]
  },
  {
   "cell_type": "code",
   "execution_count": 6,
   "metadata": {},
   "outputs": [
    {
     "ename": "OperationalError",
     "evalue": "unable to open database file",
     "output_type": "error",
     "traceback": [
      "\u001b[0;31m---------------------------------------------------------------------------\u001b[0m",
      "\u001b[0;31mOperationalError\u001b[0m                          Traceback (most recent call last)",
      "\u001b[0;32m<ipython-input-6-db16464cd198>\u001b[0m in \u001b[0;36m<module>\u001b[0;34m\u001b[0m\n\u001b[1;32m      6\u001b[0m \u001b[0;32mimport\u001b[0m \u001b[0msqlite3\u001b[0m\u001b[0;34m\u001b[0m\u001b[0;34m\u001b[0m\u001b[0m\n\u001b[1;32m      7\u001b[0m \u001b[0;34m\u001b[0m\u001b[0m\n\u001b[0;32m----> 8\u001b[0;31m \u001b[0mcnx\u001b[0m \u001b[0;34m=\u001b[0m \u001b[0msqlite3\u001b[0m\u001b[0;34m.\u001b[0m\u001b[0mconnect\u001b[0m\u001b[0;34m(\u001b[0m\u001b[0;34mr'Djoin/data/refSeqFungiStats.db'\u001b[0m\u001b[0;34m)\u001b[0m\u001b[0;34m\u001b[0m\u001b[0;34m\u001b[0m\u001b[0m\n\u001b[0m\u001b[1;32m      9\u001b[0m \u001b[0mstrain_with_chromosomes_only\u001b[0m \u001b[0;34m=\u001b[0m\u001b[0mpd\u001b[0m\u001b[0;34m.\u001b[0m\u001b[0mread_sql_query\u001b[0m\u001b[0;34m(\u001b[0m\u001b[0;34m\"SELECT STRAINTAXID FROM speciesdb where chromosome_count = 0 AND contig_count > 0 AND STRAINTAXID !=0 Group by STRAINTAXID HAVING COUNT(DISTINCT DBNAME) > 1\"\u001b[0m\u001b[0;34m,\u001b[0m \u001b[0mcnx\u001b[0m\u001b[0;34m)\u001b[0m\u001b[0;34m\u001b[0m\u001b[0;34m\u001b[0m\u001b[0m\n\u001b[1;32m     10\u001b[0m \u001b[0;34m\u001b[0m\u001b[0m\n",
      "\u001b[0;31mOperationalError\u001b[0m: unable to open database file"
     ]
    }
   ],
   "source": [
    "import numpy as np\n",
    "import matplotlib.pyplot as plt\n",
    "from matplotlib.pyplot import figure\n",
    "from matplotlib import rc\n",
    "import pandas as pd\n",
    "import sqlite3\n",
    "\n",
    "cnx = sqlite3.connect(r'/Users/aaronkarlsberg/Desktop/Djoin/data/refSeqFungiStats.db')\n",
    "strain_with_chromosomes_only = pd.read_sql_query(\"SELECT STRAINTAXID FROM speciesdb where chromosome_count = 0 AND contig_count > 0 AND STRAINTAXID !=0 Group by STRAINTAXID HAVING COUNT(DISTINCT DBNAME) > 1\", cnx)\n",
    "\n"
   ]
  },
  {
   "cell_type": "markdown",
   "metadata": {},
   "source": [
    "# Strains that have both Chromosomes and Contigs within the same fasta file: \"Mixed Sequence Files\""
   ]
  },
  {
   "cell_type": "code",
   "execution_count": 21,
   "metadata": {},
   "outputs": [],
   "source": [
    "import numpy as np\n",
    "import matplotlib.pyplot as plt\n",
    "from matplotlib.pyplot import figure\n",
    "from matplotlib import rc\n",
    "import pandas as pd\n",
    "import sqlite3\n",
    "\n",
    "cnx = sqlite3.connect(r'/Users/aaronkarlsberg/Desktop/Djoin/data/refSeqFungiStats.db')\n",
    "chrom_and_contig_mixed =pd.read_sql_query(\"SELECT * FROM speciesdb where chromosome_count > 0 AND contig_count > 0 AND STRAINTAXID !=0 Group by STRAINTAXID HAVING COUNT(DISTINCT DBNAME) > 1\", cnx)\n",
    "\n"
   ]
  },
  {
   "cell_type": "markdown",
   "metadata": {},
   "source": [
    "# Strains that have only chromosomes and only contigs in seperate databases"
   ]
  },
  {
   "cell_type": "code",
   "execution_count": 36,
   "metadata": {},
   "outputs": [],
   "source": [
    "import numpy as np\n",
    "import matplotlib.pyplot as plt\n",
    "from matplotlib.pyplot import figure\n",
    "from matplotlib import rc\n",
    "import pandas as pd\n",
    "import sqlite3\n",
    "\n",
    "cnx = sqlite3.connect(r'/Users/aaronkarlsberg/Desktop/Djoin/data/refSeqFungiStats.db')\n",
    "\n",
    "\n",
    "strain_with_contigs_in_onedb_chrom_in_other = []\n",
    "\n",
    "strain_with_contigs_only = pd.read_sql_query(\"SELECT * FROM SPECIESDB where chromosome_count > 0 AND contig_count = 0 AND STRAINTAXID !=0 Group by STRAINTAXID HAVING COUNT(DISTINCT DBNAME) > 1\", cnx)\n",
    "\n",
    "strain_with_chromosomes_only = pd.read_sql_query(\"SELECT * FROM SPECIESDB where chromosome_count = 0 AND contig_count > 0 AND STRAINTAXID !=0 Group by STRAINTAXID HAVING COUNT(DISTINCT DBNAME) > 1\", cnx)\n",
    "\n",
    "\n",
    "# for indexCont, rowCont in strain_with_contigs_only.iterrows():\n",
    "#     for indexChrom, rowChrom in strain_with_chromosomes_only.iterrows():\n",
    "#         if rowCont[\"STRAINTAXID\"] == rowChrom[\"STRAINTAXID\"]:\n",
    "#             strain_with_contigs_in_onedb_chrom_in_other.append(rowCont[\"STRAINTAXID\"])\n",
    "\n",
    "# # Eliminate dublicates\n",
    "# strain_with_contigs_in_onedb_chrom_in_other = list(dict.fromkeys(strain_with_contigs_in_onedb_chrom_in_other))\n",
    "\n",
    "# print(strain_with_contigs_in_onedb_chrom_in_other)\n",
    "\n",
    "# output of the code that is commented out above. This is to avoid running nested for loop more than once. \n",
    "strain_with_contigs_in_onedb_chrom_in_other = [227321, 237561, 1071382, 1230383, 871575, 665079, 284813, 425011]\n",
    "\n",
    "\n",
    "\n",
    "for straintaxid in strain_with_contigs_in_onedb_chrom_in_other:\n",
    "    pd.read_sql_query(\"select * from SPECIESDB where straintaxid = \"+ str(straintaxid), cnx)\n",
    "\n",
    "\n",
    "\n",
    "\n",
    "\n",
    "\n",
    "\n"
   ]
  },
  {
   "cell_type": "markdown",
   "metadata": {},
   "source": [
    "# Species that have only chromosomes and only contigs in seperate databases"
   ]
  },
  {
   "cell_type": "code",
   "execution_count": 7,
   "metadata": {},
   "outputs": [
    {
     "ename": "DatabaseError",
     "evalue": "Execution failed on sql 'SELECT * FROM speciesdb where chromosome_count = 0 AND contig_count > 0 AND SPECIESTAXID !=0 Group by SPECIESNTAXID HAVING COUNT(DISTINCT DBNAME) > 1': no such column: SPECIESNTAXID",
     "output_type": "error",
     "traceback": [
      "\u001b[0;31m---------------------------------------------------------------------------\u001b[0m",
      "\u001b[0;31mOperationalError\u001b[0m                          Traceback (most recent call last)",
      "\u001b[0;32m/anaconda3/lib/python3.6/site-packages/pandas/io/sql.py\u001b[0m in \u001b[0;36mexecute\u001b[0;34m(self, *args, **kwargs)\u001b[0m\n\u001b[1;32m   1430\u001b[0m             \u001b[0;32melse\u001b[0m\u001b[0;34m:\u001b[0m\u001b[0;34m\u001b[0m\u001b[0;34m\u001b[0m\u001b[0m\n\u001b[0;32m-> 1431\u001b[0;31m                 \u001b[0mcur\u001b[0m\u001b[0;34m.\u001b[0m\u001b[0mexecute\u001b[0m\u001b[0;34m(\u001b[0m\u001b[0;34m*\u001b[0m\u001b[0margs\u001b[0m\u001b[0;34m)\u001b[0m\u001b[0;34m\u001b[0m\u001b[0;34m\u001b[0m\u001b[0m\n\u001b[0m\u001b[1;32m   1432\u001b[0m             \u001b[0;32mreturn\u001b[0m \u001b[0mcur\u001b[0m\u001b[0;34m\u001b[0m\u001b[0;34m\u001b[0m\u001b[0m\n",
      "\u001b[0;31mOperationalError\u001b[0m: no such column: SPECIESNTAXID",
      "\nDuring handling of the above exception, another exception occurred:\n",
      "\u001b[0;31mDatabaseError\u001b[0m                             Traceback (most recent call last)",
      "\u001b[0;32m<ipython-input-7-f46a40be4adb>\u001b[0m in \u001b[0;36m<module>\u001b[0;34m\u001b[0m\n\u001b[1;32m     12\u001b[0m \u001b[0mspecies_with_contigs_only\u001b[0m \u001b[0;34m=\u001b[0m \u001b[0mpd\u001b[0m\u001b[0;34m.\u001b[0m\u001b[0mread_sql_query\u001b[0m\u001b[0;34m(\u001b[0m\u001b[0;34m\"SELECT * FROM speciesdb where chromosome_count > 0 AND contig_count = 0 AND SPECIESTAXID !=0 Group by SPECIESTAXID HAVING COUNT(DISTINCT DBNAME) > 1\"\u001b[0m\u001b[0;34m,\u001b[0m \u001b[0mcnx\u001b[0m\u001b[0;34m)\u001b[0m\u001b[0;34m\u001b[0m\u001b[0;34m\u001b[0m\u001b[0m\n\u001b[1;32m     13\u001b[0m \u001b[0;34m\u001b[0m\u001b[0m\n\u001b[0;32m---> 14\u001b[0;31m \u001b[0mspecies_with_chromosomes_only\u001b[0m \u001b[0;34m=\u001b[0m \u001b[0mpd\u001b[0m\u001b[0;34m.\u001b[0m\u001b[0mread_sql_query\u001b[0m\u001b[0;34m(\u001b[0m\u001b[0;34m\"SELECT * FROM speciesdb where chromosome_count = 0 AND contig_count > 0 AND SPECIESTAXID !=0 Group by SPECIESNTAXID HAVING COUNT(DISTINCT DBNAME) > 1\"\u001b[0m\u001b[0;34m,\u001b[0m \u001b[0mcnx\u001b[0m\u001b[0;34m)\u001b[0m\u001b[0;34m\u001b[0m\u001b[0;34m\u001b[0m\u001b[0m\n\u001b[0m\u001b[1;32m     15\u001b[0m \u001b[0;34m\u001b[0m\u001b[0m\n\u001b[1;32m     16\u001b[0m \u001b[0;34m\u001b[0m\u001b[0m\n",
      "\u001b[0;32m/anaconda3/lib/python3.6/site-packages/pandas/io/sql.py\u001b[0m in \u001b[0;36mread_sql_query\u001b[0;34m(sql, con, index_col, coerce_float, params, parse_dates, chunksize)\u001b[0m\n\u001b[1;32m    312\u001b[0m     return pandas_sql.read_query(\n\u001b[1;32m    313\u001b[0m         \u001b[0msql\u001b[0m\u001b[0;34m,\u001b[0m \u001b[0mindex_col\u001b[0m\u001b[0;34m=\u001b[0m\u001b[0mindex_col\u001b[0m\u001b[0;34m,\u001b[0m \u001b[0mparams\u001b[0m\u001b[0;34m=\u001b[0m\u001b[0mparams\u001b[0m\u001b[0;34m,\u001b[0m \u001b[0mcoerce_float\u001b[0m\u001b[0;34m=\u001b[0m\u001b[0mcoerce_float\u001b[0m\u001b[0;34m,\u001b[0m\u001b[0;34m\u001b[0m\u001b[0;34m\u001b[0m\u001b[0m\n\u001b[0;32m--> 314\u001b[0;31m         parse_dates=parse_dates, chunksize=chunksize)\n\u001b[0m\u001b[1;32m    315\u001b[0m \u001b[0;34m\u001b[0m\u001b[0m\n\u001b[1;32m    316\u001b[0m \u001b[0;34m\u001b[0m\u001b[0m\n",
      "\u001b[0;32m/anaconda3/lib/python3.6/site-packages/pandas/io/sql.py\u001b[0m in \u001b[0;36mread_query\u001b[0;34m(self, sql, index_col, coerce_float, params, parse_dates, chunksize)\u001b[0m\n\u001b[1;32m   1466\u001b[0m \u001b[0;34m\u001b[0m\u001b[0m\n\u001b[1;32m   1467\u001b[0m         \u001b[0margs\u001b[0m \u001b[0;34m=\u001b[0m \u001b[0m_convert_params\u001b[0m\u001b[0;34m(\u001b[0m\u001b[0msql\u001b[0m\u001b[0;34m,\u001b[0m \u001b[0mparams\u001b[0m\u001b[0;34m)\u001b[0m\u001b[0;34m\u001b[0m\u001b[0;34m\u001b[0m\u001b[0m\n\u001b[0;32m-> 1468\u001b[0;31m         \u001b[0mcursor\u001b[0m \u001b[0;34m=\u001b[0m \u001b[0mself\u001b[0m\u001b[0;34m.\u001b[0m\u001b[0mexecute\u001b[0m\u001b[0;34m(\u001b[0m\u001b[0;34m*\u001b[0m\u001b[0margs\u001b[0m\u001b[0;34m)\u001b[0m\u001b[0;34m\u001b[0m\u001b[0;34m\u001b[0m\u001b[0m\n\u001b[0m\u001b[1;32m   1469\u001b[0m         \u001b[0mcolumns\u001b[0m \u001b[0;34m=\u001b[0m \u001b[0;34m[\u001b[0m\u001b[0mcol_desc\u001b[0m\u001b[0;34m[\u001b[0m\u001b[0;36m0\u001b[0m\u001b[0;34m]\u001b[0m \u001b[0;32mfor\u001b[0m \u001b[0mcol_desc\u001b[0m \u001b[0;32min\u001b[0m \u001b[0mcursor\u001b[0m\u001b[0;34m.\u001b[0m\u001b[0mdescription\u001b[0m\u001b[0;34m]\u001b[0m\u001b[0;34m\u001b[0m\u001b[0;34m\u001b[0m\u001b[0m\n\u001b[1;32m   1470\u001b[0m \u001b[0;34m\u001b[0m\u001b[0m\n",
      "\u001b[0;32m/anaconda3/lib/python3.6/site-packages/pandas/io/sql.py\u001b[0m in \u001b[0;36mexecute\u001b[0;34m(self, *args, **kwargs)\u001b[0m\n\u001b[1;32m   1443\u001b[0m                 \"Execution failed on sql '{sql}': {exc}\".format(\n\u001b[1;32m   1444\u001b[0m                     sql=args[0], exc=exc))\n\u001b[0;32m-> 1445\u001b[0;31m             \u001b[0mraise_with_traceback\u001b[0m\u001b[0;34m(\u001b[0m\u001b[0mex\u001b[0m\u001b[0;34m)\u001b[0m\u001b[0;34m\u001b[0m\u001b[0;34m\u001b[0m\u001b[0m\n\u001b[0m\u001b[1;32m   1446\u001b[0m \u001b[0;34m\u001b[0m\u001b[0m\n\u001b[1;32m   1447\u001b[0m     \u001b[0;34m@\u001b[0m\u001b[0mstaticmethod\u001b[0m\u001b[0;34m\u001b[0m\u001b[0;34m\u001b[0m\u001b[0m\n",
      "\u001b[0;32m/anaconda3/lib/python3.6/site-packages/pandas/compat/__init__.py\u001b[0m in \u001b[0;36mraise_with_traceback\u001b[0;34m(exc, traceback)\u001b[0m\n\u001b[1;32m    418\u001b[0m         \u001b[0;32mif\u001b[0m \u001b[0mtraceback\u001b[0m \u001b[0;34m==\u001b[0m \u001b[0mEllipsis\u001b[0m\u001b[0;34m:\u001b[0m\u001b[0;34m\u001b[0m\u001b[0;34m\u001b[0m\u001b[0m\n\u001b[1;32m    419\u001b[0m             \u001b[0m_\u001b[0m\u001b[0;34m,\u001b[0m \u001b[0m_\u001b[0m\u001b[0;34m,\u001b[0m \u001b[0mtraceback\u001b[0m \u001b[0;34m=\u001b[0m \u001b[0msys\u001b[0m\u001b[0;34m.\u001b[0m\u001b[0mexc_info\u001b[0m\u001b[0;34m(\u001b[0m\u001b[0;34m)\u001b[0m\u001b[0;34m\u001b[0m\u001b[0;34m\u001b[0m\u001b[0m\n\u001b[0;32m--> 420\u001b[0;31m         \u001b[0;32mraise\u001b[0m \u001b[0mexc\u001b[0m\u001b[0;34m.\u001b[0m\u001b[0mwith_traceback\u001b[0m\u001b[0;34m(\u001b[0m\u001b[0mtraceback\u001b[0m\u001b[0;34m)\u001b[0m\u001b[0;34m\u001b[0m\u001b[0;34m\u001b[0m\u001b[0m\n\u001b[0m\u001b[1;32m    421\u001b[0m \u001b[0;32melse\u001b[0m\u001b[0;34m:\u001b[0m\u001b[0;34m\u001b[0m\u001b[0;34m\u001b[0m\u001b[0m\n\u001b[1;32m    422\u001b[0m     \u001b[0;31m# this version of raise is a syntax error in Python 3\u001b[0m\u001b[0;34m\u001b[0m\u001b[0;34m\u001b[0m\u001b[0;34m\u001b[0m\u001b[0m\n",
      "\u001b[0;32m/anaconda3/lib/python3.6/site-packages/pandas/io/sql.py\u001b[0m in \u001b[0;36mexecute\u001b[0;34m(self, *args, **kwargs)\u001b[0m\n\u001b[1;32m   1429\u001b[0m                 \u001b[0mcur\u001b[0m\u001b[0;34m.\u001b[0m\u001b[0mexecute\u001b[0m\u001b[0;34m(\u001b[0m\u001b[0;34m*\u001b[0m\u001b[0margs\u001b[0m\u001b[0;34m,\u001b[0m \u001b[0;34m**\u001b[0m\u001b[0mkwargs\u001b[0m\u001b[0;34m)\u001b[0m\u001b[0;34m\u001b[0m\u001b[0;34m\u001b[0m\u001b[0m\n\u001b[1;32m   1430\u001b[0m             \u001b[0;32melse\u001b[0m\u001b[0;34m:\u001b[0m\u001b[0;34m\u001b[0m\u001b[0;34m\u001b[0m\u001b[0m\n\u001b[0;32m-> 1431\u001b[0;31m                 \u001b[0mcur\u001b[0m\u001b[0;34m.\u001b[0m\u001b[0mexecute\u001b[0m\u001b[0;34m(\u001b[0m\u001b[0;34m*\u001b[0m\u001b[0margs\u001b[0m\u001b[0;34m)\u001b[0m\u001b[0;34m\u001b[0m\u001b[0;34m\u001b[0m\u001b[0m\n\u001b[0m\u001b[1;32m   1432\u001b[0m             \u001b[0;32mreturn\u001b[0m \u001b[0mcur\u001b[0m\u001b[0;34m\u001b[0m\u001b[0;34m\u001b[0m\u001b[0m\n\u001b[1;32m   1433\u001b[0m         \u001b[0;32mexcept\u001b[0m \u001b[0mException\u001b[0m \u001b[0;32mas\u001b[0m \u001b[0mexc\u001b[0m\u001b[0;34m:\u001b[0m\u001b[0;34m\u001b[0m\u001b[0;34m\u001b[0m\u001b[0m\n",
      "\u001b[0;31mDatabaseError\u001b[0m: Execution failed on sql 'SELECT * FROM speciesdb where chromosome_count = 0 AND contig_count > 0 AND SPECIESTAXID !=0 Group by SPECIESNTAXID HAVING COUNT(DISTINCT DBNAME) > 1': no such column: SPECIESNTAXID"
     ]
    }
   ],
   "source": [
    "import numpy as np\n",
    "import matplotlib.pyplot as plt\n",
    "from matplotlib.pyplot import figure\n",
    "from matplotlib import rc\n",
    "import pandas as pd\n",
    "import sqlite3\n",
    "\n",
    "cnx = sqlite3.connect(r'/Users/aaronkarlsberg/Desktop/Djoin/data/refSeqFungiStats.db')\n",
    "\n",
    "species_with_contigs_in_onedb_chrom_in_other = []\n",
    "\n",
    "species_with_contigs_only = pd.read_sql_query(\"SELECT * FROM speciesdb where chromosome_count > 0 AND contig_count = 0 AND SPECIESTAXID !=0 Group by SPECIESTAXID HAVING COUNT(DISTINCT DBNAME) > 1\", cnx)\n",
    "\n",
    "species_with_chromosomes_only = pd.read_sql_query(\"SELECT * FROM speciesdb where chromosome_count = 0 AND contig_count > 0 AND SPECIESTAXID !=0 Group by SPECIESNTAXID HAVING COUNT(DISTINCT DBNAME) > 1\", cnx)\n",
    "\n",
    "\n",
    "# for indexCont, rowCont in species_with_contigs_only.iterrows():\n",
    "#     for indexChrom, rowChrom in species_with_chromosomes_only.iterrows():\n",
    "#         if rowCont[\"SPECIESTAXID\"] == rowChrom[\"SPECIESTAXID\"]:\n",
    "#             species_with_contigs_in_onedb_chrom_in_other.append(rowCont[\"SPECIESTAXID\"])\n",
    "\n",
    "# # Eliminate dublicates\n",
    "# species_with_contigs_in_onedb_chrom_in_other = list(dict.fromkeys(species_with_contigs_in_onedb_chrom_in_other))\n",
    "\n",
    "# print(species_with_contigs_in_onedb_chrom_in_other)\n",
    "\n",
    "# output of the code that is commented out above. This is to avoid running nested for loop more than once. \n",
    "species_with_contigs_in_onedb_chrom_in_other = [746128, 162425, 40559, 5476, 5478, 37769, 432096, 76777, 1005962, 5076, 4932, 5180, 4950, 27337, 4952, 4956, 6035, 109760, 5346, 5062, 61459, 263815, 101852, 1033840, 563466, 29908, 68825, 40302, 498019, 1664694, 42068, 4754, 398673, 254056, 856822, 1367422, 280754, 80884, 5619, 104669, 1209926, 4909, 5127, 5061, 5480]\n",
    "\n",
    "\n",
    "for speciestaxid in species_with_contigs_in_onedb_chrom_in_other:\n",
    "    pd.read_sql_query(\"select * from speciesdb where speciestaxid = \"+ str(speciestaxid), cnx)\n",
    "\n",
    "\n"
   ]
  },
  {
   "cell_type": "markdown",
   "metadata": {},
   "source": [
    "# Use cases to revisit:"
   ]
  },
  {
   "cell_type": "code",
   "execution_count": 8,
   "metadata": {},
   "outputs": [],
   "source": [
    "# 72 instances in which the fungi_stats code did not characterize the sequence types contained in the fasta files. This is evident where chromosome and contig counts are zero.\n",
    "\n",
    "unclassified_sequences = pd.read_sql_query(\"SELECT * FROM speciesdb where chromosome_count = 0 AND contig_count = 0 \", cnx).size\n",
    "\n"
   ]
  },
  {
   "cell_type": "code",
   "execution_count": 9,
   "metadata": {},
   "outputs": [
    {
     "name": "stdout",
     "output_type": "stream",
     "text": [
      "782\n",
      "541\n",
      "330\n",
      "211\n",
      "213\n"
     ]
    }
   ],
   "source": [
    "strain_with_contigs_only1 = pd.read_sql_query(\"SELECT STRAINTAXID FROM speciesdb where chromosome_count = 0 AND contig_count > 0 AND STRAINTAXID !=0\", cnx).size\n",
    "print(strain_with_contigs_only1)\n",
    "\n",
    "strain_with_contigs_only = pd.read_sql_query(\"SELECT STRAINTAXID FROM speciesdb where chromosome_count = 0 AND contig_count > 0 AND STRAINTAXID !=0 Group by STRAINTAXID HAVING COUNT(DISTINCT DBNAME) > 0\", cnx).size\n",
    "print(strain_with_contigs_only)\n",
    "\n",
    "strain_with_contigs_only2 = pd.read_sql_query(\"SELECT STRAINTAXID FROM speciesdb where chromosome_count = 0 AND contig_count > 0 AND STRAINTAXID !=0 Group by STRAINTAXID HAVING COUNT(DISTINCT DBNAME) = 1\", cnx).size\n",
    "print(strain_with_contigs_only2)\n",
    "\n",
    "strain_with_contigs_only4 = pd.read_sql_query(\"SELECT STRAINTAXID FROM speciesdb where chromosome_count = 0 AND contig_count > 0 AND STRAINTAXID !=0 Group by STRAINTAXID HAVING COUNT(DISTINCT DBNAME) > 1\", cnx).size\n",
    "print(strain_with_contigs_only4)\n",
    "\n",
    "\n",
    "strain_with_contigs_only3 = pd.read_sql_query(\"SELECT STRAINTAXID FROM speciesdb where chromosome_count = 0 AND contig_count > 0 AND STRAINTAXID !=0 Group by STRAINTAXID HAVING COUNT(STRAINTAXID) > 1\", cnx).size\n",
    "\n",
    "print(strain_with_contigs_only3)\n"
   ]
  },
  {
   "cell_type": "code",
   "execution_count": 17,
   "metadata": {},
   "outputs": [
    {
     "name": "stdout",
     "output_type": "stream",
     "text": [
      "   STRAINTAXID    DBNAME                                           FILEPATH\n",
      "0       237561  ENSEMBLE  /u/home/a/akarlsbe/scratch/fungi/ENSEMBLE/Cand...\n",
      "                                            FILEPATH\n",
      "0  /u/home/a/akarlsbe/scratch/fungi/ENSEMBLE/Cand...\n",
      "1  /u/home/a/akarlsbe/scratch/fungi/ENSEMBLE/Cand...\n",
      "2  /u/home/a/akarlsbe/scratch/fungi/ENSEMBLE/Cand...\n",
      "3  /u/home/a/akarlsbe/scratch/fungi/1K/Canalb1_As...\n",
      "4  /u/home/a/akarlsbe/scratch/fungi/FUNGIDB/Fungi...\n"
     ]
    }
   ],
   "source": [
    "strain_with_contigs_only5 = pd.read_sql_query(\"SELECT STRAINTAXID,DBNAME, filepath FROM speciesdb where STRAINTAXID !=0 Group by STRAINTAXID, DBNAME HAVING COUNT(*) > 2\", cnx)\n",
    "\n",
    "\n",
    "print(strain_with_contigs_only5)\n",
    "\n",
    "example = pd.read_sql_query(\"SELECT filepath FROM speciesdb where STRAINTAXID= 237561\", cnx)\n",
    "print(example)"
   ]
  },
  {
   "cell_type": "code",
   "execution_count": null,
   "metadata": {},
   "outputs": [],
   "source": [
    "\n"
   ]
  },
  {
   "cell_type": "code",
   "execution_count": null,
   "metadata": {},
   "outputs": [],
   "source": []
  }
 ],
 "metadata": {
  "kernelspec": {
   "display_name": "Python 3",
   "language": "python",
   "name": "python3"
  },
  "language_info": {
   "codemirror_mode": {
    "name": "ipython",
    "version": 3
   },
   "file_extension": ".py",
   "mimetype": "text/x-python",
   "name": "python",
   "nbconvert_exporter": "python",
   "pygments_lexer": "ipython3",
   "version": "3.6.8"
  }
 },
 "nbformat": 4,
 "nbformat_minor": 2
}
